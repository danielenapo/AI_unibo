{
  "cells": [
    {
      "cell_type": "markdown",
      "metadata": {
        "id": "dn6TLXlp6-sy"
      },
      "source": [
        "# Computer Vision and Image Processing - Lab Session 4\n",
        "\n",
        "Content:\n",
        "1. Introduction to Pytorch (from University of Amsterdam https://uvadlc.github.io)\n",
        "2. Neural Networks with pytorch\n",
        "3. Training loop\n",
        "\n",
        "Contacts:\n",
        "\n",
        "- Prof: Giuseppe Lisanti  (giuseppe.lisanti@unibo.it)\n",
        "- Prof: Samuele Salti  (samuele.salti@unibo.it)\n",
        "- Tutor: Adriano Cardace (adriano.cardace2@unibo.it)\n",
        "\n",
        "Course:\n",
        "\n",
        "- Website and notebooks will be available at https://virtuale.unibo.it"
      ]
    },
    {
      "cell_type": "markdown",
      "source": [
        "# Import Dependencies"
      ],
      "metadata": {
        "id": "XwNURhm8fhOL"
      }
    },
    {
      "cell_type": "code",
      "source": [
        "import math\n",
        "import random\n",
        "import torch\n",
        "import torchvision\n",
        "import torch.nn as nn\n",
        "import numpy as np\n",
        "import matplotlib.pyplot as plt\n",
        "import os\n",
        "from tqdm.notebook import tqdm\n",
        "import time"
      ],
      "metadata": {
        "id": "BVQZKvyufiKb"
      },
      "execution_count": 1,
      "outputs": []
    },
    {
      "cell_type": "markdown",
      "source": [
        "# Runtime Settings\n",
        "\n",
        "For this hands-on session and the next one, we are going to train on GPUs. To request a GPU for you virtual machine in Colab, you should change the Runtime settings. \n",
        "\n",
        "![nll](https://cdn.analyticsvidhya.com/wp-content/uploads/2020/03/uc14.png)"
      ],
      "metadata": {
        "id": "RLqo3_PHf0oE"
      }
    },
    {
      "cell_type": "markdown",
      "source": [
        "## The Basics of PyTorch\n",
        "\n",
        "We will start with reviewing the very basic concepts of PyTorch. As a prerequisite, we recommend to be familiar with the `numpy` package as most machine learning frameworks are based on very similar concepts. If you are not familiar with numpy yet, don't worry: here is a [tutorial](https://numpy.org/devdocs/user/quickstart.html) to go through. \n",
        "\n",
        "So, let's start with importing PyTorch. The package is called `torch`, based on its original framework [Torch](http://torch.ch/). As a first step, we can check its version:"
      ],
      "metadata": {
        "id": "H0-AgE93gCN0"
      }
    },
    {
      "cell_type": "code",
      "source": [
        "import torch\n",
        "print(\"Using torch\", torch.__version__)"
      ],
      "metadata": {
        "id": "QC29pQZtfzoX",
        "outputId": "979c4e58-c3cd-4496-9537-03c26066e99b",
        "colab": {
          "base_uri": "https://localhost:8080/"
        }
      },
      "execution_count": 2,
      "outputs": [
        {
          "output_type": "stream",
          "name": "stdout",
          "text": [
            "Using torch 2.0.1+cu118\n"
          ]
        }
      ]
    },
    {
      "cell_type": "markdown",
      "source": [
        "# Reproducibility\n",
        "When **developing and debugging** Neural Networks is desirable to have a deterministic behaviour. For this reason, we are going to disable all the sources of randomness. Please note that completely reproducible results are not guaranteed across PyTorch releases, individual commits or different platforms. You can find more detailed information at this [page](https://pytorch.org/docs/stable/notes/randomness.html).\n",
        "Please note that the flag `cudnn.benchmark = False` disable the auto-tuner that selects the optimal set of algorithms for your hardware and usually leads to slower runtime. "
      ],
      "metadata": {
        "id": "dgXBvsGKfuW2"
      }
    },
    {
      "cell_type": "code",
      "source": [
        "def fix_random(seed: int) -> None:\n",
        "    \"\"\"Fix all the possible sources of randomness.\n",
        "\n",
        "    Args:\n",
        "        seed: the seed to use. \n",
        "    \"\"\"\n",
        "    np.random.seed(seed)\n",
        "    random.seed(seed)\n",
        "    torch.manual_seed(seed)\n",
        "    torch.cuda.manual_seed(seed)\n",
        "    \n",
        "    torch.backends.cudnn.benchmark = False\n",
        "    torch.backends.cudnn.deterministic = True   \n",
        "\n",
        "fix_random(42)"
      ],
      "metadata": {
        "id": "aA2TAJhHfpff"
      },
      "execution_count": 3,
      "outputs": []
    },
    {
      "cell_type": "markdown",
      "source": [
        "# Intro to Pytorch!\n"
      ],
      "metadata": {
        "id": "mFEQCaKNjeja"
      }
    },
    {
      "cell_type": "markdown",
      "source": [
        "### Tensors\n",
        "\n",
        "Tensors are the PyTorch equivalent to Numpy arrays, with the addition to also have support for GPU acceleration (more on that later).\n",
        "The name \"tensor\" is a generalization of concepts you already know. For instance, a vector is a 1-D tensor, and a matrix a 2-D tensor. When working with neural networks, we will use tensors of various shapes and number of dimensions.\n",
        "\n",
        "Most common functions you know from numpy can be used on tensors as well. Actually, since numpy arrays are so similar to tensors, we can convert most tensors to numpy arrays (and back) but we don't need it too often.\n",
        "\n",
        "#### Initialization\n",
        "\n",
        "Let's first start by looking at different ways of creating a tensor. There are many possible options, the simplest one is to call `torch.Tensor` passing the desired shape as input argument:"
      ],
      "metadata": {
        "id": "ngFCfpwCgREI"
      }
    },
    {
      "cell_type": "code",
      "source": [
        "x = torch.Tensor(2, 3, 4)\n",
        "print(x)"
      ],
      "metadata": {
        "id": "uDQiOHawgFPf",
        "outputId": "3038a146-aed2-45b8-8f75-7e58d0471634",
        "colab": {
          "base_uri": "https://localhost:8080/"
        }
      },
      "execution_count": 4,
      "outputs": [
        {
          "output_type": "stream",
          "name": "stdout",
          "text": [
            "tensor([[[-4.7921e+10,  4.5754e-41, -4.7487e+10,  4.5754e-41],\n",
            "         [-2.4715e+01,  4.5754e-41, -2.4715e+01,  4.5754e-41],\n",
            "         [-2.4716e+01,  4.5754e-41, -7.7226e+10,  4.5754e-41]],\n",
            "\n",
            "        [[-7.9441e+10,  4.5754e-41, -3.9797e+10,  4.5754e-41],\n",
            "         [-7.1836e+10,  4.5754e-41, -2.4716e+01,  4.5754e-41],\n",
            "         [-2.4716e+01,  4.5754e-41, -8.2208e+10,  4.5754e-41]]])\n"
          ]
        }
      ]
    },
    {
      "cell_type": "markdown",
      "source": [
        "The function `torch.Tensor` allocates memory for the desired tensor, but reuses any values that have already been in the memory. To directly assign values to the tensor during initialization, there are many alternatives including:\n",
        "\n",
        "* `torch.zeros`: Creates a tensor filled with zeros\n",
        "* `torch.ones`: Creates a tensor filled with ones\n",
        "* `torch.rand`: Creates a tensor with random values uniformly sampled between 0 and 1\n",
        "* `torch.randn`: Creates a tensor with random values sampled from a normal distribution with mean 0 and variance 1\n",
        "* `torch.arange`: Creates a tensor containing the values $N,N+1,N+2,...,M$\n",
        "* `torch.Tensor` (input list): Creates a tensor from the list elements you provide"
      ],
      "metadata": {
        "id": "hLIXyENcgWh4"
      }
    },
    {
      "cell_type": "code",
      "source": [
        "# Create a tensor from a (nested) list\n",
        "x = torch.Tensor([[1, 2], [3, 4]])\n",
        "print(x)"
      ],
      "metadata": {
        "id": "UyBYyCOegTDg",
        "outputId": "f6f95213-cf3f-4905-f343-8f332df1422d",
        "colab": {
          "base_uri": "https://localhost:8080/"
        }
      },
      "execution_count": 5,
      "outputs": [
        {
          "output_type": "stream",
          "name": "stdout",
          "text": [
            "tensor([[1., 2.],\n",
            "        [3., 4.]])\n"
          ]
        }
      ]
    },
    {
      "cell_type": "code",
      "source": [
        "# Create a tensor with random values between 0 and 1 with the shape [2, 3, 4]\n",
        "x = torch.rand(2, 3, 4)\n",
        "print(x)\n",
        "print(x.shape)"
      ],
      "metadata": {
        "id": "37LE_1X0gZB2",
        "outputId": "b44c0067-da0b-447a-a4d6-7e3b1e1aaf4c",
        "colab": {
          "base_uri": "https://localhost:8080/"
        }
      },
      "execution_count": 6,
      "outputs": [
        {
          "output_type": "stream",
          "name": "stdout",
          "text": [
            "tensor([[[0.8823, 0.9150, 0.3829, 0.9593],\n",
            "         [0.3904, 0.6009, 0.2566, 0.7936],\n",
            "         [0.9408, 0.1332, 0.9346, 0.5936]],\n",
            "\n",
            "        [[0.8694, 0.5677, 0.7411, 0.4294],\n",
            "         [0.8854, 0.5739, 0.2666, 0.6274],\n",
            "         [0.2696, 0.4414, 0.2969, 0.8317]]])\n",
            "torch.Size([2, 3, 4])\n"
          ]
        }
      ]
    },
    {
      "cell_type": "markdown",
      "source": [
        "#### Tensor to Numpy, and Numpy to Tensor\n",
        "\n",
        "Tensors can be converted to numpy arrays, and numpy arrays back to tensors. To transform a numpy array into a tensor, we can use the function `torch.from_numpy`:"
      ],
      "metadata": {
        "id": "Ew-ZZuvigdsw"
      }
    },
    {
      "cell_type": "code",
      "source": [
        "np_arr = np.array([[1, 2], [3, 4]])\n",
        "tensor = torch.from_numpy(np_arr)\n",
        "\n",
        "print(\"Numpy array:\", np_arr)\n",
        "print(\"PyTorch tensor:\", tensor)"
      ],
      "metadata": {
        "id": "xVwTEf8DgeDm",
        "outputId": "c2b0fc62-feac-4f04-d880-0928a6e8140f",
        "colab": {
          "base_uri": "https://localhost:8080/"
        }
      },
      "execution_count": 7,
      "outputs": [
        {
          "output_type": "stream",
          "name": "stdout",
          "text": [
            "Numpy array: [[1 2]\n",
            " [3 4]]\n",
            "PyTorch tensor: tensor([[1, 2],\n",
            "        [3, 4]])\n"
          ]
        }
      ]
    },
    {
      "cell_type": "markdown",
      "source": [
        "To transform a PyTorch tensor back to a numpy array, we can use the function `.numpy()` on tensors:"
      ],
      "metadata": {
        "id": "mWn5KkHXghtv"
      }
    },
    {
      "cell_type": "code",
      "source": [
        "tensor = torch.arange(4)\n",
        "np_arr = tensor.numpy()\n",
        "\n",
        "print(\"PyTorch tensor:\", tensor)\n",
        "print(\"Numpy array:\", np_arr)"
      ],
      "metadata": {
        "id": "zDu5t-bUgh79",
        "outputId": "56df7aea-10b6-42b7-e742-c416a9d7c551",
        "colab": {
          "base_uri": "https://localhost:8080/"
        }
      },
      "execution_count": 8,
      "outputs": [
        {
          "output_type": "stream",
          "name": "stdout",
          "text": [
            "PyTorch tensor: tensor([0, 1, 2, 3])\n",
            "Numpy array: [0 1 2 3]\n"
          ]
        }
      ]
    },
    {
      "cell_type": "markdown",
      "source": [
        "The conversion of tensors to numpy require the tensor to be on the CPU, and not the GPU (more on GPU support in a later section). In case you have a tensor on GPU, you need to call `.cpu()` on the tensor beforehand. Hence, you get a line like `np_arr = tensor.cpu().numpy()`."
      ],
      "metadata": {
        "id": "SRgeGtXmglxN"
      }
    },
    {
      "cell_type": "markdown",
      "source": [
        "#### Basic Operations\n"
      ],
      "metadata": {
        "id": "If8Fn80mguoR"
      }
    },
    {
      "cell_type": "code",
      "source": [
        "x1 = torch.rand(2, 3)\n",
        "x2 = torch.rand(2, 3)\n",
        "y = x1 + x2\n",
        "\n",
        "print(\"X1\", x1)\n",
        "print(\"X2\", x2)\n",
        "print(\"Y\", y)"
      ],
      "metadata": {
        "id": "FTS9VAVWgmHG",
        "outputId": "7118c524-a4b6-4537-e2d7-8a833b650787",
        "colab": {
          "base_uri": "https://localhost:8080/"
        }
      },
      "execution_count": 9,
      "outputs": [
        {
          "output_type": "stream",
          "name": "stdout",
          "text": [
            "X1 tensor([[0.1053, 0.2695, 0.3588],\n",
            "        [0.1994, 0.5472, 0.0062]])\n",
            "X2 tensor([[0.9516, 0.0753, 0.8860],\n",
            "        [0.5832, 0.3376, 0.8090]])\n",
            "Y tensor([[1.0569, 0.3448, 1.2448],\n",
            "        [0.7826, 0.8848, 0.8151]])\n"
          ]
        }
      ]
    },
    {
      "cell_type": "code",
      "source": [
        "x1 = torch.rand(2, 3)\n",
        "x2 = torch.rand(2, 3)\n",
        "print(\"X1 (before)\", x1)\n",
        "print(\"X2 (before)\", x2)\n",
        "\n",
        "x2.add_(x1)\n",
        "print(\"X1 (after)\", x1)\n",
        "print(\"X2 (after)\", x2)"
      ],
      "metadata": {
        "id": "TBHw7x7jgxpD",
        "outputId": "e89b9d96-2f0a-4524-d170-8cada1b583dd",
        "colab": {
          "base_uri": "https://localhost:8080/"
        }
      },
      "execution_count": 10,
      "outputs": [
        {
          "output_type": "stream",
          "name": "stdout",
          "text": [
            "X1 (before) tensor([[0.5779, 0.9040, 0.5547],\n",
            "        [0.3423, 0.6343, 0.3644]])\n",
            "X2 (before) tensor([[0.7104, 0.9464, 0.7890],\n",
            "        [0.2814, 0.7886, 0.5895]])\n",
            "X1 (after) tensor([[0.5779, 0.9040, 0.5547],\n",
            "        [0.3423, 0.6343, 0.3644]])\n",
            "X2 (after) tensor([[1.2884, 1.8504, 1.3437],\n",
            "        [0.6237, 1.4230, 0.9539]])\n"
          ]
        }
      ]
    },
    {
      "cell_type": "markdown",
      "source": [
        "In-place operations are usually marked with a underscore postfix (e.g. \"add_\" instead of \"add\").\n",
        "\n",
        "Another common operation aims at changing the shape of a tensor. A tensor of size (2,3) can be re-organized to any other shape with the same number of elements (e.g. a tensor of size (6), or (3,2), ...). In PyTorch, this operation is called `view`:"
      ],
      "metadata": {
        "id": "Tsvfxz_7g0jZ"
      }
    },
    {
      "cell_type": "code",
      "source": [
        "x = torch.arange(6)\n",
        "print(\"X\", x)"
      ],
      "metadata": {
        "id": "FJ3akcLwg5QO",
        "outputId": "5e79b052-534b-4087-c91c-d6a23e423858",
        "colab": {
          "base_uri": "https://localhost:8080/"
        }
      },
      "execution_count": 11,
      "outputs": [
        {
          "output_type": "stream",
          "name": "stdout",
          "text": [
            "X tensor([0, 1, 2, 3, 4, 5])\n"
          ]
        }
      ]
    },
    {
      "cell_type": "code",
      "source": [
        "x = x.view(2, 3)\n",
        "print(\"X\", x)"
      ],
      "metadata": {
        "id": "mgPBjXQbg5Sn",
        "outputId": "744c49ce-c569-4e14-af34-96c13e40a656",
        "colab": {
          "base_uri": "https://localhost:8080/"
        }
      },
      "execution_count": 12,
      "outputs": [
        {
          "output_type": "stream",
          "name": "stdout",
          "text": [
            "X tensor([[0, 1, 2],\n",
            "        [3, 4, 5]])\n"
          ]
        }
      ]
    },
    {
      "cell_type": "code",
      "source": [
        "x = x.permute(1, 0) # Swapping dimension 0 and 1\n",
        "print(\"X\", x)"
      ],
      "metadata": {
        "id": "EmgJr1nAg-dn",
        "outputId": "bda3c114-dd0d-4f1c-a0df-7ed8b7fdca9e",
        "colab": {
          "base_uri": "https://localhost:8080/"
        }
      },
      "execution_count": 13,
      "outputs": [
        {
          "output_type": "stream",
          "name": "stdout",
          "text": [
            "X tensor([[0, 3],\n",
            "        [1, 4],\n",
            "        [2, 5]])\n"
          ]
        }
      ]
    },
    {
      "cell_type": "markdown",
      "source": [
        "### GPU support"
      ],
      "metadata": {
        "id": "6EURHdNfiRQU"
      }
    },
    {
      "cell_type": "code",
      "source": [
        "gpu_avail = torch.cuda.is_available()\n",
        "print(f\"Is the GPU available? {gpu_avail}\")"
      ],
      "metadata": {
        "id": "WOAcsnKoiTub",
        "outputId": "11cb0c94-7ef6-4fca-89c0-0438dfdc6c00",
        "colab": {
          "base_uri": "https://localhost:8080/"
        }
      },
      "execution_count": 14,
      "outputs": [
        {
          "output_type": "stream",
          "name": "stdout",
          "text": [
            "Is the GPU available? True\n"
          ]
        }
      ]
    },
    {
      "cell_type": "code",
      "source": [
        "device = torch.device(\"cuda\") if torch.cuda.is_available() else torch.device(\"cpu\")\n",
        "print(\"Device\", device)"
      ],
      "metadata": {
        "id": "gO-TPsWwjN5z",
        "outputId": "476cd72d-1563-4a3e-9497-b883bd040348",
        "colab": {
          "base_uri": "https://localhost:8080/"
        }
      },
      "execution_count": 15,
      "outputs": [
        {
          "output_type": "stream",
          "name": "stdout",
          "text": [
            "Device cuda\n"
          ]
        }
      ]
    },
    {
      "cell_type": "code",
      "source": [
        "x = torch.zeros(2, 3)\n",
        "x = x.to(device)\n",
        "print(\"X\", x)"
      ],
      "metadata": {
        "id": "WIxwjjGGit23",
        "outputId": "67896e0e-977e-4f0e-e6fe-9765f09055a3",
        "colab": {
          "base_uri": "https://localhost:8080/"
        }
      },
      "execution_count": 16,
      "outputs": [
        {
          "output_type": "stream",
          "name": "stdout",
          "text": [
            "X tensor([[0., 0., 0.],\n",
            "        [0., 0., 0.]], device='cuda:0')\n"
          ]
        }
      ]
    },
    {
      "cell_type": "markdown",
      "source": [
        "In case you have a GPU, you should now see the attribute `device='cuda:0'` being printed next to your tensor. The zero next to cuda indicates that this is the zero-th GPU device on your computer. PyTorch also supports multi-GPU systems, but this you will only need once you have very big networks to train (if interested, see the [PyTorch documentation](https://pytorch.org/docs/stable/distributed.html#distributed-basics)). We can also compare the runtime of a large matrix multiplication on the CPU with a operation on the GPU:"
      ],
      "metadata": {
        "id": "yfnrkVv1jQRM"
      }
    },
    {
      "cell_type": "code",
      "source": [
        "x = torch.randn(5000, 5000)\n",
        "\n",
        "## CPU version\n",
        "start_time = time.time()\n",
        "_ = torch.matmul(x, x)\n",
        "end_time = time.time()\n",
        "print(f\"CPU time: {(end_time - start_time):6.5f}s\")\n",
        "\n",
        "## GPU version\n",
        "x = x.to(device)\n",
        "_ = torch.matmul(x, x)  # First operation to 'burn in' GPU\n",
        "# CUDA is asynchronous, so we need to use different timing functions\n",
        "start = torch.cuda.Event(enable_timing=True)\n",
        "end = torch.cuda.Event(enable_timing=True)\n",
        "start.record()\n",
        "_ = torch.matmul(x, x)\n",
        "end.record()\n",
        "torch.cuda.synchronize()  # Waits for everything to finish running on the GPU\n",
        "print(f\"GPU time: {0.001 * start.elapsed_time(end):6.5f}s\")  # Milliseconds to seconds"
      ],
      "metadata": {
        "id": "CT8SX9k2jV-J",
        "outputId": "b45febc1-8eda-4495-dbe0-c26aaaa1d291",
        "colab": {
          "base_uri": "https://localhost:8080/"
        }
      },
      "execution_count": 17,
      "outputs": [
        {
          "output_type": "stream",
          "name": "stdout",
          "text": [
            "CPU time: 4.45594s\n",
            "GPU time: 0.07051s\n"
          ]
        }
      ]
    },
    {
      "cell_type": "markdown",
      "source": [
        "### Dynamic Computation Graph and Backpropagation\n",
        "\n",
        "One of the main reasons for using PyTorch in Deep Learning projects is that we can automatically get **gradients/derivatives** of functions that we define. We will mainly use PyTorch for implementing neural networks, and they are just fancy functions. If we use weight matrices in our function that we want to learn, then those are called the **parameters** or simply the **weights**.\n",
        "\n",
        "If our neural network would output a single scalar value, we would talk about taking the **derivative**, but you will see that quite often we will have **multiple** output variables (\"values\"); in that case we talk about **gradients**. It's a more general term.\n",
        "\n",
        "Given an input $\\mathbf{x}$, we define our function by **manipulating** that input, usually by matrix-multiplications with weight matrices and additions with so-called bias vectors. As we manipulate our input, we are automatically creating a **computational graph**. This graph shows how to arrive at our output from our input. \n",
        "PyTorch is a **define-by-run** framework; this means that we can just do our manipulations, and PyTorch will keep track of that graph for us. Thus, we create a dynamic computation graph along the way.\n",
        "\n",
        "So, to recap: the only thing we have to do is to compute the **output**, and then we can ask PyTorch to automatically get the **gradients**. \n",
        "\n",
        "> **Note:  Why do we want gradients?** Consider that we have defined a function, a neural net, that is supposed to compute a certain output $y$ for an input vector $\\mathbf{x}$. We then define an **error measure** that tells us how wrong our network is; how bad it is in predicting output $y$ from input $\\mathbf{x}$. Based on this error measure, we can use the gradients to **update** the weights $\\mathbf{W}$ that were responsible for the output, so that the next time we present input $\\mathbf{x}$ to our network, the output will be closer to what we want.\n",
        "\n",
        "The first thing we have to do is to specify which tensors require gradients. By default, when we create a tensor, it does not require gradients."
      ],
      "metadata": {
        "id": "tXFGealwhUTM"
      }
    },
    {
      "cell_type": "code",
      "source": [
        "x = torch.ones((3,))\n",
        "print(x.requires_grad)"
      ],
      "metadata": {
        "id": "uxAXf-n4hUzs",
        "outputId": "7158ce02-861d-454d-c1ce-553b4f4db09b",
        "colab": {
          "base_uri": "https://localhost:8080/"
        }
      },
      "execution_count": 18,
      "outputs": [
        {
          "output_type": "stream",
          "name": "stdout",
          "text": [
            "False\n"
          ]
        }
      ]
    },
    {
      "cell_type": "markdown",
      "source": [
        "We can change this for an existing tensor using the function `requires_grad_()` (underscore indicating that this is a in-place operation). Alternatively, when creating a tensor, you can pass the argument `requires_grad=True` to most initializers we have seen above."
      ],
      "metadata": {
        "id": "sX5lX1p-hYar"
      }
    },
    {
      "cell_type": "code",
      "source": [
        "x.requires_grad_(True)\n",
        "print(x.requires_grad)"
      ],
      "metadata": {
        "id": "f5-C-iAZhYyE",
        "outputId": "9b9cba3d-a53b-493f-f767-8e0519edef3d",
        "colab": {
          "base_uri": "https://localhost:8080/"
        }
      },
      "execution_count": 19,
      "outputs": [
        {
          "output_type": "stream",
          "name": "stdout",
          "text": [
            "True\n"
          ]
        }
      ]
    },
    {
      "cell_type": "markdown",
      "source": [
        "In order to get familiar with the concept of a computation graph, we will create one for the following function:\n",
        "\n",
        "$$y = \\frac{1}{|x|}\\sum_i \\left[(x_i + 2)^2 + 3\\right]$$\n",
        "\n",
        "You could imagine that $x$ are our parameters, and we want to optimize (either maximize or minimize) the output $y$. For this, we want to obtain the gradients $\\partial y / \\partial \\mathbf{x}$. For our example, we'll use $\\mathbf{x}=[0,1,2]$ as our input."
      ],
      "metadata": {
        "id": "DRFyBLqxhaYw"
      }
    },
    {
      "cell_type": "code",
      "source": [
        "x = torch.arange(3, dtype=torch.float32, requires_grad=True) # Only float tensors can have gradients\n",
        "print(\"X\", x)"
      ],
      "metadata": {
        "id": "1yWKQVIBhcwz",
        "outputId": "ae582433-7919-494f-f7d2-c21a93cd4f76",
        "colab": {
          "base_uri": "https://localhost:8080/"
        }
      },
      "execution_count": 20,
      "outputs": [
        {
          "output_type": "stream",
          "name": "stdout",
          "text": [
            "X tensor([0., 1., 2.], requires_grad=True)\n"
          ]
        }
      ]
    },
    {
      "cell_type": "markdown",
      "source": [
        "Now let's build the computation graph step by step. You can combine multiple operations in a single line, but we will separate them here to get a better understanding of how each operation is added to the computation graph."
      ],
      "metadata": {
        "id": "mLQ-m-C4hhSQ"
      }
    },
    {
      "cell_type": "code",
      "source": [
        "a = x + 2\n",
        "b = a ** 2\n",
        "c = b + 3\n",
        "y = c.mean()\n",
        "print(\"Y\", y)"
      ],
      "metadata": {
        "id": "49u8xvJ_hjqg",
        "outputId": "4a59c9ec-692a-4ddd-b9d0-f81a3aa569e9",
        "colab": {
          "base_uri": "https://localhost:8080/"
        }
      },
      "execution_count": 21,
      "outputs": [
        {
          "output_type": "stream",
          "name": "stdout",
          "text": [
            "Y tensor(12.6667, grad_fn=<MeanBackward0>)\n"
          ]
        }
      ]
    },
    {
      "cell_type": "markdown",
      "source": [
        "Using the statements above, we have created a computation graph that looks similar to the figure below:\n",
        "\n",
        "![pytorch_computation_graph.svg](data:image/svg+xml;base64,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)\n",
        "\n",
        "We calculate $a$ based on the inputs $x$ and the constant $2$, $b$ is $a$ squared, and so on. The visualization is an abstraction of the dependencies between inputs and outputs of the operations we have applied.\n",
        "Each node of the computation graph has automatically defined a function for calculating the gradients with respect to its inputs, `grad_fn`. You can see this when we printed the output tensor $y$. This is why the computation graph is usually visualized in the reverse direction (arrows point from the result to the inputs). We can perform backpropagation on the computation graph by calling the function `backward()` on the last output, which effectively calculates the gradients for each tensor that has the property `requires_grad=True`:"
      ],
      "metadata": {
        "id": "IuPSEbQmhnUG"
      }
    },
    {
      "cell_type": "code",
      "source": [
        "y.backward()"
      ],
      "metadata": {
        "id": "34H59ODhhnod"
      },
      "execution_count": 22,
      "outputs": []
    },
    {
      "cell_type": "markdown",
      "source": [
        "`x.grad` will now contain the gradient $\\partial y/ \\partial \\mathcal{x}$, and this gradient indicates how a change in $\\mathbf{x}$ will affect output $y$ given the current input $\\mathbf{x}=[0,1,2]$:"
      ],
      "metadata": {
        "id": "yj9ls_fSiFzT"
      }
    },
    {
      "cell_type": "code",
      "source": [
        "print(x.grad)"
      ],
      "metadata": {
        "id": "pUzoypZKiGNi",
        "outputId": "44d46a36-64f8-45c8-b9d3-ae7b8927b499",
        "colab": {
          "base_uri": "https://localhost:8080/"
        }
      },
      "execution_count": 23,
      "outputs": [
        {
          "output_type": "stream",
          "name": "stdout",
          "text": [
            "tensor([1.3333, 2.0000, 2.6667])\n"
          ]
        }
      ]
    },
    {
      "cell_type": "markdown",
      "source": [
        "We can also verify these gradients by hand. We will calculate the gradients using the chain rule, in the same way as PyTorch did it:\n",
        "\n",
        "$$\\frac{\\partial y}{\\partial x_i} = \\frac{\\partial y}{\\partial c_i}\\frac{\\partial c_i}{\\partial b_i}\\frac{\\partial b_i}{\\partial a_i}\\frac{\\partial a_i}{\\partial x_i}$$\n",
        "\n",
        "Note that we have simplified this equation to index notation, and by using the fact that all operation besides the mean do not combine the elements in the tensor. The partial derivatives are:\n",
        "\n",
        "$$\n",
        "\\frac{\\partial a_i}{\\partial x_i} = 1,\\hspace{1cm}\n",
        "\\frac{\\partial b_i}{\\partial a_i} = 2\\cdot a_i\\hspace{1cm}\n",
        "\\frac{\\partial c_i}{\\partial b_i} = 1\\hspace{1cm}\n",
        "\\frac{\\partial y}{\\partial c_i} = \\frac{1}{3}\n",
        "$$\n",
        "\n",
        "Hence, with the input being $\\mathbf{x}=[0,1,2]$, our gradients are $\\partial y/\\partial \\mathbf{x}=[4/3,2,8/3]$. The previous code cell should have printed the same result."
      ],
      "metadata": {
        "id": "SAjQg5reiHwa"
      }
    },
    {
      "cell_type": "markdown",
      "source": [
        "# Let's build our first Neural Network!"
      ],
      "metadata": {
        "id": "rMpYB7E3jl65"
      }
    },
    {
      "cell_type": "code",
      "source": [
        "import torch\n",
        "import torchvision\n",
        "import torchvision.transforms as transforms\n",
        "from torch.utils.data import random_split, DataLoader, TensorDataset\n",
        "import torch.nn.functional as F\n",
        "import matplotlib.pyplot as plt\n",
        "import numpy as np\n",
        "import math\n",
        "from timeit import default_timer as timer\n",
        "from functools import partial\n",
        "\n",
        "plt.rcParams['figure.figsize'] = (12.0, 8.0)\n",
        "plt.rcParams['font.size'] = 16"
      ],
      "metadata": {
        "id": "CMHWUb7Jj-Mz"
      },
      "execution_count": 24,
      "outputs": []
    },
    {
      "cell_type": "markdown",
      "source": [
        "### prepapre the Train/Val/Test split \n",
        "We are going to classify images from CIFAR10, let's first download the dataset"
      ],
      "metadata": {
        "id": "tl6T_miQjtDF"
      }
    },
    {
      "cell_type": "code",
      "source": [
        "tsfms = transforms.Compose([transforms.ToTensor(), transforms.Lambda(lambda z: z.flatten())]) \n",
        "train_ds = torchvision.datasets.SVHN(root=\"/data/\", split='train', transform=tsfms, download=True)\n",
        "test_ds = torchvision.datasets.SVHN(root=\"/data/\", split='test', transform=tsfms, download=True)\n",
        "\n",
        "n_classes = 10\n",
        "n_features = len(train_ds[0][0])"
      ],
      "metadata": {
        "id": "mheve-u1jpx3"
      },
      "execution_count": null,
      "outputs": []
    },
    {
      "cell_type": "code",
      "source": [
        "f, axarr = plt.subplots(1,2, squeeze=False)\n",
        "axarr[0,0].imshow(test_ds[0][0].reshape(3,32,32).permute(1,2,0))\n",
        "axarr[0,1].imshow(train_ds[0][0].reshape(3,32,32).permute(1,2,0))"
      ],
      "metadata": {
        "colab": {
          "base_uri": "https://localhost:8080/",
          "height": 507
        },
        "id": "PUlnsRp7MWuY",
        "outputId": "4908e741-d452-40b4-fe6f-25cd937f8b27"
      },
      "execution_count": 26,
      "outputs": [
        {
          "output_type": "execute_result",
          "data": {
            "text/plain": [
              "<matplotlib.image.AxesImage at 0x7f8ae82e84f0>"
            ]
          },
          "metadata": {},
          "execution_count": 26
        },
        {
          "output_type": "display_data",
          "data": {
            "text/plain": [
              "<Figure size 1200x800 with 2 Axes>"
            ],
            "image/png": "[encoded data removed]"
          },
          "metadata": {}
        }
      ]
    },
    {
      "cell_type": "markdown",
      "source": [
        "### We create a small validation set from the training set"
      ],
      "metadata": {
        "id": "VmPTtqPhkYBW"
      }
    },
    {
      "cell_type": "code",
      "source": [
        "splitted_datasets = torch.utils.data.random_split(train_ds, [len(train_ds)-5000, 5000])\n",
        "actual_train_subds = splitted_datasets[0]\n",
        "valid_subds = splitted_datasets[1]"
      ],
      "metadata": {
        "id": "MfooUAojkBIe"
      },
      "execution_count": 27,
      "outputs": []
    },
    {
      "cell_type": "markdown",
      "source": [
        "#### The data loader class\n",
        "\n",
        "The class `torch.utils.data.DataLoader` represents a Python iterable over a dataset with support for automatic batching, multi-process data loading and many more features. The data loader communicates with the dataset using the function `__getitem__`, and stacks its outputs as tensors over the first dimension to form a batch.\n",
        "In contrast to the dataset class, we usually don't have to define our own data loader class, but can just create an object of it with the dataset as input. Additionally, we can configure our data loader with the following input arguments (only a selection, see full list [here](https://pytorch.org/docs/stable/data.html#torch.utils.data.DataLoader)):\n",
        "\n",
        "* `batch_size`: Number of samples to stack per batch\n",
        "* `shuffle`: If True, the data is returned in a random order. This is important during training for introducing stochasticity. \n",
        "* `num_workers`: Number of subprocesses to use for data loading. The default, 0, means that the data will be loaded in the main process which can slow down training for datasets where loading a data point takes a considerable amount of time (e.g. large images). More workers are recommended for those, but can cause issues on Windows computers. For tiny datasets as ours, 0 workers are usually faster.\n",
        "* `pin_memory`: If True, the data loader will copy Tensors into CUDA pinned memory before returning them. This can save some time for large data points on GPUs. Usually a good practice to use for a training set, but not necessarily for validation and test to save memory on the GPU.\n",
        "* `drop_last`: If True, the last batch is dropped in case it is smaller than the specified batch size. This occurs when the dataset size is not a multiple of the batch size. Only potentially helpful during training to keep a consistent batch size.\n",
        "\n",
        "Let's create a simple data loader below:"
      ],
      "metadata": {
        "id": "ZR8Cj93vnSLr"
      }
    },
    {
      "cell_type": "code",
      "source": [
        "batch_size = 256\n",
        "\n",
        "train_dl = torch.utils.data.DataLoader(actual_train_subds, batch_size=batch_size, shuffle=True)\n",
        "valid_dl = torch.utils.data.DataLoader(valid_subds, batch_size=batch_size)\n",
        "test_dl = torch.utils.data.DataLoader(test_ds, batch_size=batch_size)"
      ],
      "metadata": {
        "id": "J_7Pg2jAkH3H"
      },
      "execution_count": 28,
      "outputs": []
    },
    {
      "cell_type": "code",
      "source": [
        "# next(iter(...)) catches the first batch of the data loader\n",
        "# If shuffle is True, this will return a different batch every time we run this cell\n",
        "# For iterating over the whole dataset, we can simple use \"for batch in data_loader: ...\"\n",
        "data_inputs, data_labels = next(iter(train_dl))\n",
        "\n",
        "# The shape of the outputs are [batch_size, d_1,...,d_N] where d_1,...,d_N are the \n",
        "# dimensions of the data point returned from the dataset class\n",
        "print(\"Data inputs\", data_inputs.shape, \"\\n\", data_inputs)\n",
        "print(\"Data labels\", data_labels.shape, \"\\n\", data_labels)"
      ],
      "metadata": {
        "id": "1rR2Vw5mnZjl",
        "outputId": "5305c831-9f91-4e9a-b05e-c1abc5bf6538",
        "colab": {
          "base_uri": "https://localhost:8080/"
        }
      },
      "execution_count": 29,
      "outputs": [
        {
          "output_type": "stream",
          "name": "stdout",
          "text": [
            "Data inputs torch.Size([256, 3072]) \n",
            " tensor([[0.4078, 0.3843, 0.3569,  ..., 0.4706, 0.4667, 0.4510],\n",
            "        [0.5804, 0.5765, 0.5686,  ..., 0.5686, 0.5647, 0.5608],\n",
            "        [0.3529, 0.3020, 0.2471,  ..., 0.1059, 0.2196, 0.4275],\n",
            "        ...,\n",
            "        [0.8627, 0.8078, 0.6980,  ..., 0.9294, 0.9373, 0.9176],\n",
            "        [0.6431, 0.6471, 0.6471,  ..., 0.1569, 0.2118, 0.2039],\n",
            "        [0.2235, 0.2235, 0.2235,  ..., 0.5451, 0.5020, 0.4706]])\n",
            "Data labels torch.Size([256]) \n",
            " tensor([8, 1, 2, 3, 1, 9, 6, 7, 4, 9, 4, 1, 2, 1, 0, 8, 0, 5, 2, 1, 4, 1, 2, 3,\n",
            "        0, 3, 2, 9, 5, 7, 5, 2, 6, 6, 3, 1, 4, 3, 1, 6, 7, 2, 3, 1, 9, 5, 6, 6,\n",
            "        1, 1, 3, 3, 4, 7, 2, 8, 8, 3, 4, 9, 6, 5, 1, 0, 6, 6, 1, 4, 1, 3, 3, 6,\n",
            "        4, 8, 4, 5, 4, 8, 8, 1, 1, 1, 6, 1, 4, 2, 1, 7, 6, 8, 3, 2, 1, 3, 8, 1,\n",
            "        5, 1, 5, 6, 3, 4, 6, 3, 1, 4, 4, 4, 7, 2, 8, 4, 2, 6, 3, 3, 1, 4, 1, 2,\n",
            "        0, 9, 4, 4, 2, 9, 8, 5, 0, 6, 7, 2, 5, 0, 6, 5, 3, 3, 2, 7, 6, 2, 7, 1,\n",
            "        1, 8, 3, 7, 9, 6, 5, 4, 2, 9, 3, 0, 0, 7, 8, 3, 3, 5, 5, 2, 3, 1, 4, 3,\n",
            "        1, 4, 1, 5, 0, 4, 2, 5, 5, 0, 4, 2, 5, 5, 8, 3, 3, 5, 1, 2, 8, 4, 0, 2,\n",
            "        1, 9, 1, 0, 3, 5, 0, 3, 1, 4, 5, 7, 2, 8, 3, 4, 0, 5, 2, 3, 2, 3, 1, 1,\n",
            "        6, 1, 5, 1, 0, 3, 0, 3, 3, 4, 2, 1, 2, 1, 8, 1, 1, 7, 5, 4, 2, 7, 1, 6,\n",
            "        2, 0, 0, 2, 7, 8, 2, 1, 0, 1, 8, 4, 3, 4, 2, 3])\n"
          ]
        }
      ]
    },
    {
      "cell_type": "markdown",
      "source": [
        "### Create the network"
      ],
      "metadata": {
        "id": "OwUJEONtkngC"
      }
    },
    {
      "cell_type": "markdown",
      "source": [
        "We will then create our first Neural Network. One way to create Neural Networks in PyTorch is by subclassing `torch.nn.Module`. In this way, our model will inherit a lot of ready-to-use convinience functions (access to parameters for optimization, get/set parameters, ...). \n",
        "\n",
        "We only need to create the layers we will use in the `__init__` function and define the `forward` function that specifies how to apply them. \n",
        "\n",
        "Layers are in turn subclasses of `torch.nn.Module`. In our example, we will use only linear layers, i.e. Fully Connected (FC) layers. Our network will have at least two FC layers: `self.first`, mapping the flattened input image into the (first) hidden representation, and `self.last`, mapping the (last) hidden representation into the scores for the classes.\n",
        "\n",
        "To play with varying depths and activation functions, we will have two additional parameters:\n",
        "\n",
        "\n",
        "*   `n_additional_hidden_layers`, specifies how many hidden layers our network has, beside `self.first`\n",
        "*   `use_relu`, if `False`, activations will be sigmoid functions, ReLUs otherwise\n",
        "\n",
        "Note that to store a variable number of layers in our network, we do not use plain PyTorch lists, but `torch.nn.ModuleList`. This is important to make PyTorch aware of the layers in the list, e.g. to set/get their parameters when calling the methods of the base `Module` class."
      ],
      "metadata": {
        "id": "M7bO5sVVkLaV"
      }
    },
    {
      "cell_type": "code",
      "source": [
        "### Common template\n",
        "class SimpleClassifier(nn.Module):\n",
        "\n",
        "    def __init__(self, num_inputs, num_hidden, num_outputs):\n",
        "        super().__init__()\n",
        "        # Initialize the modules we need to build the network\n",
        "\n",
        "    def forward(self, x):\n",
        "        # Perform the calculation of the model to determine the prediction\n",
        "        return x"
      ],
      "metadata": {
        "id": "TzdJdK_Mmhay"
      },
      "execution_count": 30,
      "outputs": []
    },
    {
      "cell_type": "code",
      "source": [
        "class SimpleClassifier(torch.nn.Module):\n",
        "  def __init__(self, n_features, hidden_width, n_classes, n_additional_hidden_layers=0):\n",
        "    super(SimpleClassifier, self).__init__()\n",
        "    self.first = torch.nn.Linear(n_features, hidden_width) \n",
        "    self.activation = torch.relu\n",
        "    self.last = torch.nn.Linear(hidden_width, n_classes)\n",
        "\n",
        "    self.additional_hidden_layers = torch.nn.ModuleList(\n",
        "        [torch.nn.Linear(hidden_width, hidden_width) for i in range(n_additional_hidden_layers)])\n",
        "  \n",
        "      \n",
        "  def forward(self, x):\n",
        "    x = self.first(x)\n",
        "    x = self.activation(x)\n",
        "    for layer in self.additional_hidden_layers:\n",
        "      x = layer(x)\n",
        "      x = self.activation(x)\n",
        "    x = self.last(x)\n",
        "    return x"
      ],
      "metadata": {
        "id": "ahhsPujbkL7I"
      },
      "execution_count": 31,
      "outputs": []
    },
    {
      "cell_type": "code",
      "source": [
        "hidden_width = 128\n",
        "\n",
        "model = SimpleClassifier(n_features, hidden_width, n_classes, n_additional_hidden_layers=1)\n",
        "for p in model.parameters():\n",
        "  print(type(p), p.shape)"
      ],
      "metadata": {
        "id": "2Z-UyxAAn_fX",
        "outputId": "4e389697-0ea4-4d96-805c-1fc5ae5aa36f",
        "colab": {
          "base_uri": "https://localhost:8080/"
        }
      },
      "execution_count": 32,
      "outputs": [
        {
          "output_type": "stream",
          "name": "stdout",
          "text": [
            "<class 'torch.nn.parameter.Parameter'> torch.Size([128, 3072])\n",
            "<class 'torch.nn.parameter.Parameter'> torch.Size([128])\n",
            "<class 'torch.nn.parameter.Parameter'> torch.Size([10, 128])\n",
            "<class 'torch.nn.parameter.Parameter'> torch.Size([10])\n",
            "<class 'torch.nn.parameter.Parameter'> torch.Size([128, 128])\n",
            "<class 'torch.nn.parameter.Parameter'> torch.Size([128])\n"
          ]
        }
      ]
    },
    {
      "cell_type": "markdown",
      "source": [
        "Each linear layer has a weight matrix of the shape `[output, input]`, and a bias of the shape `[output]`. The activation function does not have any parameters. Note that parameters are only registered for `nn.Module` objects that are direct object attributes, i.e. `self.a = ...`. "
      ],
      "metadata": {
        "id": "MqCpCn4vmt1i"
      }
    },
    {
      "cell_type": "markdown",
      "source": [
        "`state_dict()` instead is an (Ordered) Dictionary, which associates each variable storing a layer in our classes with its parameters. It is therefore useful to obtain a snapshot of the parameters of our model that can later be restored by calling `load_state_dict()`."
      ],
      "metadata": {
        "id": "OeyYTq2hqYDy"
      }
    },
    {
      "cell_type": "code",
      "source": [
        "type(model.state_dict())"
      ],
      "metadata": {
        "id": "Viqn0fgyqn0v",
        "outputId": "2867bc77-e72c-4362-f22f-0215e09d4525",
        "colab": {
          "base_uri": "https://localhost:8080/"
        }
      },
      "execution_count": 33,
      "outputs": [
        {
          "output_type": "execute_result",
          "data": {
            "text/plain": [
              "collections.OrderedDict"
            ]
          },
          "metadata": {},
          "execution_count": 33
        }
      ]
    },
    {
      "cell_type": "code",
      "source": [
        "model.state_dict().keys()"
      ],
      "metadata": {
        "id": "TwTXNE8DqpLf",
        "outputId": "ead5bc2d-ca7b-4eea-f72a-715d034921e8",
        "colab": {
          "base_uri": "https://localhost:8080/"
        }
      },
      "execution_count": 34,
      "outputs": [
        {
          "output_type": "execute_result",
          "data": {
            "text/plain": [
              "odict_keys(['first.weight', 'first.bias', 'last.weight', 'last.bias', 'additional_hidden_layers.0.weight', 'additional_hidden_layers.0.bias'])"
            ]
          },
          "metadata": {},
          "execution_count": 34
        }
      ]
    },
    {
      "cell_type": "code",
      "source": [
        "model.state_dict()[\"first.bias\"]"
      ],
      "metadata": {
        "id": "dBoWl-lpqqZe"
      },
      "execution_count": null,
      "outputs": []
    },
    {
      "cell_type": "code",
      "source": [
        "# Push model to device. Has to be only done once\n",
        "model.to(device)"
      ],
      "metadata": {
        "id": "hHdm_zLjpwCY",
        "outputId": "08d72b5f-9cca-4427-ae68-32894a24de48",
        "colab": {
          "base_uri": "https://localhost:8080/"
        }
      },
      "execution_count": 36,
      "outputs": [
        {
          "output_type": "execute_result",
          "data": {
            "text/plain": [
              "SimpleClassifier(\n",
              "  (first): Linear(in_features=3072, out_features=128, bias=True)\n",
              "  (last): Linear(in_features=128, out_features=10, bias=True)\n",
              "  (additional_hidden_layers): ModuleList(\n",
              "    (0): Linear(in_features=128, out_features=128, bias=True)\n",
              "  )\n",
              ")"
            ]
          },
          "metadata": {},
          "execution_count": 36
        }
      ]
    },
    {
      "cell_type": "markdown",
      "source": [
        "### Optimization\n",
        "\n",
        "After defining the model and the dataset, it is time to prepare the optimization of the model. During training, we will perform the following steps:\n",
        "\n",
        "1. Get a batch from the data loader\n",
        "2. Obtain the predictions from the model for the batch\n",
        "3. Calculate the loss based on the difference between predictions and labels\n",
        "4. Backpropagation: calculate the gradients for every parameter with respect to the loss\n",
        "5. Update the parameters of the model in the direction of the gradients\n"
      ],
      "metadata": {
        "id": "pMJ3jFu-nujg"
      }
    },
    {
      "cell_type": "markdown",
      "source": [
        "#### Stochastic Gradient Descent\n",
        "\n",
        "For updating the parameters, PyTorch provides the package `torch.optim` that has most popular optimizers implemented. Will for now use `torch.optim.Adam`."
      ],
      "metadata": {
        "id": "qehLOzi1n9v4"
      }
    },
    {
      "cell_type": "code",
      "source": [
        "optimizer = torch.optim.Adam(model.parameters(), lr=0.001)"
      ],
      "metadata": {
        "id": "JAK9JOl3o-mE"
      },
      "execution_count": 37,
      "outputs": []
    },
    {
      "cell_type": "markdown",
      "source": [
        "The optimizer provides two useful functions: `optimizer.step()`, and `optimizer.zero_grad()`. The step function updates the parameters based on the gradients as explained above. The function `optimizer.zero_grad()` sets the gradients of all parameters to zero. While this function seems less relevant at first, it is a crucial pre-step before performing backpropagation. If we call the `backward` function on the loss while the parameter gradients are non-zero from the previous batch, the new gradients would actually be added to the previous ones instead of overwriting them. This is done because a parameter might occur multiple times in a computation graph, and we need to sum the gradients in this case instead of replacing them. Hence, remember to call `optimizer.zero_grad()` before calculating the gradients of a batch."
      ],
      "metadata": {
        "id": "RrM17i7spNNN"
      }
    },
    {
      "cell_type": "code",
      "source": [
        "def ncorrect(scores, y):\n",
        "  y_hat = torch.argmax(scores, 1)\n",
        "  return (y_hat==y).sum()\n",
        "\n",
        "def accuracy(scores, y):\n",
        "  correct = ncorrect(scores, y)\n",
        "  return correct.true_divide(y.shape[0])\n",
        "  \n",
        "def train_loop(model, train_dl, epochs, opt, valid_dl=None, verbose=False):\n",
        "  best_valid_acc = 0\n",
        "  best_params = []\n",
        "  best_epoch = -1\n",
        "\n",
        "  for e in tqdm(range(epochs)):\n",
        "    model.train()\n",
        "    #train\n",
        "    train_loss = 0\n",
        "    train_samples = 0\n",
        "    train_acc = 0\n",
        "    for train_data in train_dl:\n",
        "      input = train_data[0].to(device)\n",
        "      labels = train_data[1].to(device)\n",
        "      scores = model(input)\n",
        "      loss = F.cross_entropy(scores, labels)\n",
        "      train_loss += loss.item() * input.shape[0]\n",
        "      train_samples += input.shape[0]\n",
        "      train_acc += ncorrect(scores, labels).item()\n",
        "      loss.backward()\n",
        "\n",
        "      opt.step()\n",
        "      opt.zero_grad()\n",
        "\n",
        "    train_acc /= train_samples\n",
        "    train_loss /= train_samples\n",
        "    \n",
        "    # validation\n",
        "    model.eval()\n",
        "    with torch.no_grad():\n",
        "      valid_loss = 0\n",
        "      valid_samples = 0\n",
        "      valid_acc = 0\n",
        "      if valid_dl is not None:\n",
        "        for valid_data in valid_dl:\n",
        "          input = valid_data[0].to(device)\n",
        "          labels = valid_data[1].to(device)\n",
        "          valid_scores = model(input)\n",
        "          valid_loss += F.cross_entropy(valid_scores, labels).item() * input.shape[0]\n",
        "          valid_samples += input.shape[0]\n",
        "          valid_acc += ncorrect(valid_scores, labels).item()\n",
        "        valid_acc /= valid_samples\n",
        "        valid_loss /= valid_samples\n",
        "      \n",
        "      if valid_dl is None or valid_acc > best_valid_acc:\n",
        "        best_valid_acc = valid_acc if valid_dl is not None else 0\n",
        "        best_params = model.state_dict()\n",
        "        torch.save(best_params, \"best_model.pth\")\n",
        "        best_epoch = e\n",
        "\n",
        "    if verbose and e % 5 == 0:\n",
        "      print(f\"Epoch {e}: train loss {train_loss:.3f} - train acc {train_acc:.3f}\" + (\"\" if valid_dl is None else f\" - valid loss {valid_loss:.3f} - valid acc {valid_acc:.3f}\"))\n",
        "  \n",
        "  if verbose and valid_dl is not None:\n",
        "    print(f\"Best epoch {best_epoch}, best acc {best_valid_acc}\")\n",
        "\n",
        "  return best_valid_acc, best_params, best_epoch"
      ],
      "metadata": {
        "id": "RMHsGa-kktk6"
      },
      "execution_count": 38,
      "outputs": []
    },
    {
      "cell_type": "markdown",
      "source": [
        "### Train the network"
      ],
      "metadata": {
        "id": "5C_cx4r3l3X3"
      }
    },
    {
      "cell_type": "code",
      "source": [
        "epochs = 20\n",
        "\n",
        "start = timer()\n",
        "best_valid_acc, best_params, best_epoch = train_loop(model, train_dl, epochs, optimizer, valid_dl=valid_dl, verbose=True)\n",
        "end = timer()\n",
        "print(f\"Elapsed time (s): {end-start}\")"
      ],
      "metadata": {
        "id": "xR8VRn7Vl4HT",
        "outputId": "6abd483d-b17e-4bdd-eead-00e46d842833",
        "colab": {
          "base_uri": "https://localhost:8080/",
          "height": 153,
          "referenced_widgets": [
            "38341f234471463a94f034abd8556d5b",
            "c33cae22c4ce487ea147b0bbf8036c6d",
            "00fca860c9fa452f9b83ebf37f1946cf",
            "1c28a39e6f564d4d813733035883ef27",
            "4c2c63a143804d4180255c7196603c91",
            "45f812db01e4452096e3494740cc43e6",
            "77c7176f8ab847a4a15567b00a55a0a8",
            "44d7c5b0fe374491821bc0064646c768",
            "d0102cf456b14e46816ea39fa5ee3618",
            "ec7a7e45c6e64636a626968e91084735",
            "e67d9b27300443febb155250f8f920c8"
          ]
        }
      },
      "execution_count": 39,
      "outputs": [
        {
          "output_type": "display_data",
          "data": {
            "text/plain": [
              "  0%|          | 0/20 [00:00<?, ?it/s]"
            ],
            "application/vnd.jupyter.widget-view+json": {
              "version_major": 2,
              "version_minor": 0,
              "model_id": "38341f234471463a94f034abd8556d5b"
            }
          },
          "metadata": {}
        },
        {
          "output_type": "stream",
          "name": "stdout",
          "text": [
            "Epoch 0: train loss 2.221 - train acc 0.195 - valid loss 2.065 - valid acc 0.258\n",
            "Epoch 5: train loss 1.277 - train acc 0.595 - valid loss 1.254 - valid acc 0.604\n",
            "Epoch 10: train loss 1.077 - train acc 0.669 - valid loss 1.140 - valid acc 0.638\n",
            "Epoch 15: train loss 0.995 - train acc 0.695 - valid loss 1.026 - valid acc 0.681\n",
            "Best epoch 17, best acc 0.7044\n",
            "Elapsed time (s): 334.12374050200003\n"
          ]
        }
      ]
    },
    {
      "cell_type": "markdown",
      "source": [
        "### Load the model "
      ],
      "metadata": {
        "id": "3DnMx-N8q6Vo"
      }
    },
    {
      "cell_type": "code",
      "source": [
        "# Load state dict from the disk (make sure it is the same name as above)\n",
        "state_dict = torch.load(\"best_model.pth\")\n",
        "\n",
        "# Create a new model and load the state\n",
        "new_model = SimpleClassifier(n_features, hidden_width, n_classes, n_additional_hidden_layers=1)\n",
        "new_model.load_state_dict(state_dict)"
      ],
      "metadata": {
        "id": "pfWY1VuWq7Z4",
        "outputId": "93bb9df1-fc4a-4f94-9759-1d96c1411a6a",
        "colab": {
          "base_uri": "https://localhost:8080/"
        }
      },
      "execution_count": 40,
      "outputs": [
        {
          "output_type": "execute_result",
          "data": {
            "text/plain": [
              "<All keys matched successfully>"
            ]
          },
          "metadata": {},
          "execution_count": 40
        }
      ]
    },
    {
      "cell_type": "markdown",
      "source": [
        "# Now it's your turn!"
      ],
      "metadata": {
        "id": "YX5S0oEt1pJF"
      }
    },
    {
      "cell_type": "markdown",
      "source": [
        "## Exercise 1: Improve the Accuracy score\n",
        "\n",
        "Try to achieve a better accuracy on the validation set by modifying the previus model and manually tuning the hyper parameters such as the number of epochs, the learning rate, and the number of hidden layers. \n",
        "\n",
        "\n",
        "Suggestion: you can add [Batch Normalization](https://arxiv.org/abs/1502.03167). You can find the Normalization layers already implemented in [PyTorch](https://pytorch.org/docs/stable/nn.html#id1).\n",
        "\n",
        "use '''nn.Sequential()''' to stack togheter a block with the following \n",
        "structure:\n",
        "\n",
        "nn.Linear -> BatchNorm -> Activation\n",
        "\n",
        "Use the nn.Sequential() pytorch package to stack the previus three components into a single layer.\n",
        "\n",
        "**You should easily get 80% on the validation set**\n"
      ],
      "metadata": {
        "id": "FXoBf9ZF4o4A"
      }
    },
    {
      "cell_type": "code",
      "source": [
        "def get_linear_bn_relu(\n",
        "    name: str,\n",
        "    features_in: int,\n",
        "    features_out: int,\n",
        "    add_batch_norm: bool,\n",
        ") -> nn.Sequential:\n",
        "    \"\"\"Gets a sequential container with a sandwich of Linear, Relu and batch norm.\n",
        "\n",
        "    Args:\n",
        "        name: the name prefix to append to each layer in the container.\n",
        "        features_in: the number of the input channels.\n",
        "        features_out: the number of the output channels.\n",
        "        add_batch_norm: if True, add a batch normalization layer after the Linear layer.\n",
        "\n",
        "    Returns: the created sequential.\n",
        "    \"\"\"\n",
        "    container = nn.Sequential()\n",
        "    ############ Write your code here ############\n",
        "    container.add_module(\n",
        "        f\"{name}_fc\", nn.Linear(in_features=features_in, out_features=features_out)\n",
        "    )\n",
        "\n",
        "    if add_batch_norm:\n",
        "        container.add_module(f\"{name}_bn\", nn.BatchNorm1d(features_out))\n",
        "    container.add_module(f\"{name}_relu\", nn.ReLU())\n",
        "    #############################################\n",
        "\n",
        "\n",
        "    return container"
      ],
      "metadata": {
        "id": "J5wwRfF41r6k"
      },
      "execution_count": 41,
      "outputs": []
    },
    {
      "cell_type": "code",
      "source": [
        "class SimpleClassifierBN(nn.Module):\n",
        "  def __init__(self, n_features, hidden_width, n_classes, n_additional_hidden_layers=0):\n",
        "    super(SimpleClassifierBN, self).__init__()\n",
        "    self.first = torch.nn.Linear(n_features, hidden_width)\n",
        "    self.bn = nn.BatchNorm1d(hidden_width)\n",
        "    self.activation = torch.relu\n",
        "    self.last = torch.nn.Linear(hidden_width, n_classes)\n",
        "\n",
        "    self.additional_hidden_layers = torch.nn.ModuleList(\n",
        "        [get_linear_bn_relu(name=f\"h_layer_{i}\", features_in=hidden_width, features_out=hidden_width, add_batch_norm=True)\n",
        "          for i in range(n_additional_hidden_layers)])\n",
        "  \n",
        "  def forward(self, x):\n",
        "    x = self.first(x)\n",
        "    x = self.bn(x)\n",
        "    x = self.activation(x)\n",
        "    for layer in self.additional_hidden_layers:\n",
        "      x = layer(x)\n",
        "      x = self.activation(x)\n",
        "    x = self.last(x)\n",
        "    return x"
      ],
      "metadata": {
        "id": "tH_HHQX041fR"
      },
      "execution_count": 42,
      "outputs": []
    },
    {
      "cell_type": "code",
      "source": [
        "new_model = SimpleClassifierBN(n_features, hidden_width, n_classes, n_additional_hidden_layers=3)\n",
        "new_model.to(device)\n",
        "optimizer = torch.optim.Adam(new_model.parameters(), lr=0.01)\n",
        "epochs = 25\n",
        "\n",
        "start = timer()\n",
        "best_valid_acc, best_params, best_epoch = train_loop(new_model, train_dl, epochs, optimizer, valid_dl=valid_dl, verbose=True)\n",
        "end = timer()\n",
        "print(f\"Elapsed time (s): {end-start}\")"
      ],
      "metadata": {
        "id": "s03EO1ev5JjD",
        "outputId": "eab1fd2d-0161-4dcf-eec2-f860fd46a743",
        "colab": {
          "base_uri": "https://localhost:8080/",
          "height": 171,
          "referenced_widgets": [
            "290f826f18e4432a84a182d7734ada51",
            "3e1672785c384fedb5aa2ffc98476f84",
            "d2831fd753d343ed900b971121556d3d",
            "1081d0d786c84fc0bf19237fb2d2d71e",
            "c8d6013f41cc47c39f819fb4285a5568",
            "eb22037449a047aea6d2a310f0353a8e",
            "e9beb075e0ed4a38a564cfc235a146f7",
            "f6cc6a4e5afa40f8aee59187a26dbf4f",
            "2a683ca3eb2145cda4569e571071f9d4",
            "b42d382144e14e1ebcd9da13d988ae8d",
            "869ac3f3409747a993ad7c4e755fa800"
          ]
        }
      },
      "execution_count": 43,
      "outputs": [
        {
          "output_type": "display_data",
          "data": {
            "text/plain": [
              "  0%|          | 0/25 [00:00<?, ?it/s]"
            ],
            "application/vnd.jupyter.widget-view+json": {
              "version_major": 2,
              "version_minor": 0,
              "model_id": "290f826f18e4432a84a182d7734ada51"
            }
          },
          "metadata": {}
        },
        {
          "output_type": "stream",
          "name": "stdout",
          "text": [
            "Epoch 0: train loss 1.403 - train acc 0.521 - valid loss 1.405 - valid acc 0.532\n",
            "Epoch 5: train loss 0.585 - train acc 0.816 - valid loss 0.907 - valid acc 0.723\n",
            "Epoch 10: train loss 0.454 - train acc 0.856 - valid loss 0.998 - valid acc 0.690\n",
            "Epoch 15: train loss 0.381 - train acc 0.878 - valid loss 0.733 - valid acc 0.773\n",
            "Epoch 20: train loss 0.335 - train acc 0.892 - valid loss 0.731 - valid acc 0.787\n",
            "Best epoch 19, best acc 0.8158\n",
            "Elapsed time (s): 413.16457420899997\n"
          ]
        }
      ]
    },
    {
      "cell_type": "code",
      "source": [
        "new_model.load_state_dict(torch.load('best_model.pth'))"
      ],
      "metadata": {
        "id": "IqtXRfKEg74z",
        "outputId": "103ca655-b8f7-406e-b4de-1b3095ee4455",
        "colab": {
          "base_uri": "https://localhost:8080/"
        }
      },
      "execution_count": 44,
      "outputs": [
        {
          "output_type": "execute_result",
          "data": {
            "text/plain": [
              "<All keys matched successfully>"
            ]
          },
          "metadata": {},
          "execution_count": 44
        }
      ]
    },
    {
      "cell_type": "markdown",
      "source": [
        "## Exercise 2: \n",
        "Compute the confusion matrix for the test set. Then, given the confusion matrix, compute the accuracy score."
      ],
      "metadata": {
        "id": "LAwjHfGV5Zyo"
      }
    },
    {
      "cell_type": "code",
      "source": [
        "num_classes = 10\n",
        "new_model.eval()\n",
        "confusion_matrix = torch.zeros(num_classes, num_classes)\n",
        "############ Write your code here ############\n",
        "with torch.no_grad():\n",
        "    for i, data in enumerate(test_dl):\n",
        "        input, gt = data\n",
        "        input = input.to(device)\n",
        "        gt = gt.to(device)\n",
        "\n",
        "        outputs = new_model(input)\n",
        "        _, preds = torch.max(outputs, 1)\n",
        "        for t, p in zip(gt.view(-1), preds.view(-1)):\n",
        "                confusion_matrix[t.long(), p.long()] += 1\n",
        "\n",
        "test_accuracy = torch.diagonal(confusion_matrix).sum()/confusion_matrix.sum()\n",
        "#############################################\n",
        "print(test_accuracy)\n"
      ],
      "metadata": {
        "id": "vuGfiC3vZMzz"
      },
      "execution_count": null,
      "outputs": []
    },
    {
      "cell_type": "code",
      "source": [
        "import seaborn as sn\n",
        "import pandas as pd\n",
        "import matplotlib.pyplot as plt\n",
        "\n",
        "confusion_matrix /= confusion_matrix.sum(1)\n",
        "confusion_matrix *= 100\n",
        "df_cm = pd.DataFrame(confusion_matrix)\n",
        "plt.figure(figsize = (10,7))\n",
        "sn.heatmap(df_cm, annot=True)"
      ],
      "metadata": {
        "id": "TtbAcZVkbhZu",
        "outputId": "9d7a22bc-11e8-44f1-a45e-5c7c9a1a043f",
        "colab": {
          "base_uri": "https://localhost:8080/",
          "height": 622
        }
      },
      "execution_count": 46,
      "outputs": [
        {
          "output_type": "execute_result",
          "data": {
            "text/plain": [
              "<Axes: >"
            ]
          },
          "metadata": {},
          "execution_count": 46
        },
        {
          "output_type": "display_data",
          "data": {
            "text/plain": [
              "<Figure size 1000x700 with 2 Axes>"
            ],
            "image/png": "[encoded data removed]"
          },
          "metadata": {}
        }
      ]
    },
    {
      "cell_type": "markdown",
      "source": [
        "## Exercise 3:\n",
        "Rewrite the forward model to return the embedding rather than the classification scores.\n",
        "**Note that you don't have to retrain the model again!**\n",
        "\n",
        "Then, show the three nearest neighbors in the train set for element with index 0 in the test set."
      ],
      "metadata": {
        "id": "xjVl1dHK5Z3w"
      }
    },
    {
      "cell_type": "code",
      "source": [
        "class SimpleClassifierBN_2(nn.Module):\n",
        "  def __init__(self, n_features, hidden_width, n_classes, n_additional_hidden_layers=0):\n",
        "    super(SimpleClassifierBN_2, self).__init__()\n",
        "    ############ Write your code here ############\n",
        "    self.first = torch.nn.Linear(n_features, hidden_width)\n",
        "    self.bn = nn.BatchNorm1d(hidden_width)\n",
        "    self.activation = torch.relu\n",
        "    self.last = torch.nn.Linear(hidden_width, n_classes)\n",
        "\n",
        "    self.additional_hidden_layers = torch.nn.ModuleList(\n",
        "        [get_linear_bn_relu(name=f\"h_layer_{i}\", features_in=hidden_width, features_out=hidden_width, add_batch_norm=True)\n",
        "          for i in range(n_additional_hidden_layers)])\n",
        "  #############################################\n",
        "\n",
        "  def forward(self, x):\n",
        "    ############ Write your code here ############\n",
        "    x = self.first(x)\n",
        "    x = self.bn(x)\n",
        "    x = self.activation(x)\n",
        "    for layer in self.additional_hidden_layers:\n",
        "      x = layer(x)\n",
        "      x_last = self.activation(x)\n",
        "    return x_last\n",
        "    #############################################"
      ],
      "metadata": {
        "id": "akoEz0AdveM_"
      },
      "execution_count": 47,
      "outputs": []
    },
    {
      "cell_type": "code",
      "source": [
        "# Load state dict from the disk (make sure it is the same name as above)\n",
        "state_dict = torch.load(\"best_model.pth\")\n",
        "\n",
        "# Create a new model and load the state\n",
        "new_model = SimpleClassifierBN_2(n_features, hidden_width, n_classes, n_additional_hidden_layers=3)\n",
        "new_model.load_state_dict(state_dict)\n",
        "new_model.to(device)\n",
        "new_model.eval()"
      ],
      "metadata": {
        "id": "3teK1uxPvuoo"
      },
      "execution_count": null,
      "outputs": []
    },
    {
      "cell_type": "code",
      "source": [
        "def get_embeddings(model, dl):\n",
        "  model.eval()\n",
        "  embeddings = []\n",
        "  labels = []\n",
        "  \n",
        "############ Write your code here ############\n",
        "  with torch.no_grad():\n",
        "      for data in dl:\n",
        "          input, gt = data\n",
        "          input = input.to(device)\n",
        "          gt = gt.to(device)\n",
        "\n",
        "          # calculate the embeddings by running images through the network\n",
        "          feature_vectors = model(input)\n",
        "          for idx in range(input.shape[0]):\n",
        "            embeddings.append(feature_vectors[idx])\n",
        "            labels.append(gt[idx])\n",
        "  \n",
        "  embeddings = torch.stack(embeddings, dim=0)\n",
        "  labels = torch.stack(labels, dim=0)\n",
        "\n",
        "#############################################\n",
        "  return embeddings, labels\n",
        "\n",
        "train_dl = torch.utils.data.DataLoader(actual_train_subds, batch_size=batch_size, shuffle=False)\n",
        "embeddings_train, labels_train = get_embeddings(new_model, train_dl)\n",
        "print(embeddings_train.shape, labels_train.shape)\n",
        "embeddings_test, labels_test = get_embeddings(new_model, test_dl)\n",
        "print(embeddings_test.shape, labels_test.shape)"
      ],
      "metadata": {
        "id": "cgknZDtH4rpf",
        "outputId": "2d8ea93b-400d-4c53-d401-9bc94880d1ad",
        "colab": {
          "base_uri": "https://localhost:8080/"
        }
      },
      "execution_count": 77,
      "outputs": [
        {
          "output_type": "stream",
          "name": "stdout",
          "text": [
            "torch.Size([68257, 128]) torch.Size([68257])\n",
            "torch.Size([26032, 128]) torch.Size([26032])\n"
          ]
        }
      ]
    },
    {
      "cell_type": "code",
      "source": [
        "############ Write your code here ############\n",
        "\n",
        "elem_idx = 0\n",
        "embeddings_train_normalized = torch.nn.functional.normalize(embeddings_train, dim=1)\n",
        "embeddings_test_normalized = torch.nn.functional.normalize(embeddings_test, dim=1)\n",
        "\n",
        "dist = torch.linalg.norm(embeddings_train_normalized - embeddings_test_normalized[elem_idx].unsqueeze(0), dim=1)    \n",
        "knn = dist.topk(3, largest=False)\n",
        "\n",
        "f, axarr = plt.subplots(1,4, squeeze=False)\n",
        "axarr[0,0].imshow(test_ds[elem_idx][0].reshape(3,32,32).permute(1,2,0))\n",
        "axarr[0,1].imshow(actual_train_subds[knn.indices[0]][0].reshape(3,32,32).permute(1,2,0))\n",
        "axarr[0,2].imshow(actual_train_subds[knn.indices[1]][0].reshape(3,32,32).permute(1,2,0))\n",
        "axarr[0,3].imshow(actual_train_subds[knn.indices[2]][0].reshape(3,32,32).permute(1,2,0))\n",
        "\n",
        "print(test_ds[elem_idx][1])\n",
        "print(actual_train_subds[knn.indices[0]][1], actual_train_subds[knn.indices[1]][1], actual_train_subds[knn.indices[2]][1])\n",
        "\n",
        "#############################################\n"
      ],
      "metadata": {
        "id": "9oUEQ70OE5OT",
        "outputId": "c0b1d6d8-98e0-49ad-b508-5942f52aef73",
        "colab": {
          "base_uri": "https://localhost:8080/",
          "height": 308
        }
      },
      "execution_count": 78,
      "outputs": [
        {
          "output_type": "stream",
          "name": "stdout",
          "text": [
            "5\n",
            "5 5 5\n"
          ]
        },
        {
          "output_type": "display_data",
          "data": {
            "text/plain": [
              "<Figure size 1200x800 with 4 Axes>"
            ],
            "image/png": "[encoded data removed]"
          },
          "metadata": {}
        }
      ]
    },
    {
      "cell_type": "code",
      "source": [],
      "metadata": {
        "id": "u6mPk4EeJCgT"
      },
      "execution_count": null,
      "outputs": []
    }
  ],
  "metadata": {
    "kernelspec": {
      "display_name": "Python 3 (ipykernel)",
      "language": "python",
      "name": "python3"
    },
    "language_info": {
      "codemirror_mode": {
        "name": "ipython",
        "version": 3
      },
      "file_extension": ".py",
      "mimetype": "text/x-python",
      "name": "python",
      "nbconvert_exporter": "python",
      "pygments_lexer": "ipython3",
      "version": "3.8.10"
    },
    "colab": {
      "provenance": [],
      "gpuType": "T4"
    },
    "accelerator": "GPU",
    "gpuClass": "standard",
    "widgets": {
      "application/vnd.jupyter.widget-state+json": {
        "38341f234471463a94f034abd8556d5b": {
          "model_module": "@jupyter-widgets/controls",
          "model_name": "HBoxModel",
          "model_module_version": "1.5.0",
          "state": {
            "_dom_classes": [],
            "_model_module": "@jupyter-widgets/controls",
            "_model_module_version": "1.5.0",
            "_model_name": "HBoxModel",
            "_view_count": null,
            "_view_module": "@jupyter-widgets/controls",
            "_view_module_version": "1.5.0",
            "_view_name": "HBoxView",
            "box_style": "",
            "children": [
              "IPY_MODEL_c33cae22c4ce487ea147b0bbf8036c6d",
              "IPY_MODEL_00fca860c9fa452f9b83ebf37f1946cf",
              "IPY_MODEL_1c28a39e6f564d4d813733035883ef27"
            ],
            "layout": "IPY_MODEL_4c2c63a143804d4180255c7196603c91"
          }
        },
        "c33cae22c4ce487ea147b0bbf8036c6d": {
          "model_module": "@jupyter-widgets/controls",
          "model_name": "HTMLModel",
          "model_module_version": "1.5.0",
          "state": {
            "_dom_classes": [],
            "_model_module": "@jupyter-widgets/controls",
            "_model_module_version": "1.5.0",
            "_model_name": "HTMLModel",
            "_view_count": null,
            "_view_module": "@jupyter-widgets/controls",
            "_view_module_version": "1.5.0",
            "_view_name": "HTMLView",
            "description": "",
            "description_tooltip": null,
            "layout": "IPY_MODEL_45f812db01e4452096e3494740cc43e6",
            "placeholder": "​",
            "style": "IPY_MODEL_77c7176f8ab847a4a15567b00a55a0a8",
            "value": "100%"
          }
        },
        "00fca860c9fa452f9b83ebf37f1946cf": {
          "model_module": "@jupyter-widgets/controls",
          "model_name": "FloatProgressModel",
          "model_module_version": "1.5.0",
          "state": {
            "_dom_classes": [],
            "_model_module": "@jupyter-widgets/controls",
            "_model_module_version": "1.5.0",
            "_model_name": "FloatProgressModel",
            "_view_count": null,
            "_view_module": "@jupyter-widgets/controls",
            "_view_module_version": "1.5.0",
            "_view_name": "ProgressView",
            "bar_style": "success",
            "description": "",
            "description_tooltip": null,
            "layout": "IPY_MODEL_44d7c5b0fe374491821bc0064646c768",
            "max": 20,
            "min": 0,
            "orientation": "horizontal",
            "style": "IPY_MODEL_d0102cf456b14e46816ea39fa5ee3618",
            "value": 20
          }
        },
        "1c28a39e6f564d4d813733035883ef27": {
          "model_module": "@jupyter-widgets/controls",
          "model_name": "HTMLModel",
          "model_module_version": "1.5.0",
          "state": {
            "_dom_classes": [],
            "_model_module": "@jupyter-widgets/controls",
            "_model_module_version": "1.5.0",
            "_model_name": "HTMLModel",
            "_view_count": null,
            "_view_module": "@jupyter-widgets/controls",
            "_view_module_version": "1.5.0",
            "_view_name": "HTMLView",
            "description": "",
            "description_tooltip": null,
            "layout": "IPY_MODEL_ec7a7e45c6e64636a626968e91084735",
            "placeholder": "​",
            "style": "IPY_MODEL_e67d9b27300443febb155250f8f920c8",
            "value": " 20/20 [05:34&lt;00:00, 17.18s/it]"
          }
        },
        "4c2c63a143804d4180255c7196603c91": {
          "model_module": "@jupyter-widgets/base",
          "model_name": "LayoutModel",
          "model_module_version": "1.2.0",
          "state": {
            "_model_module": "@jupyter-widgets/base",
            "_model_module_version": "1.2.0",
            "_model_name": "LayoutModel",
            "_view_count": null,
            "_view_module": "@jupyter-widgets/base",
            "_view_module_version": "1.2.0",
            "_view_name": "LayoutView",
            "align_content": null,
            "align_items": null,
            "align_self": null,
            "border": null,
            "bottom": null,
            "display": null,
            "flex": null,
            "flex_flow": null,
            "grid_area": null,
            "grid_auto_columns": null,
            "grid_auto_flow": null,
            "grid_auto_rows": null,
            "grid_column": null,
            "grid_gap": null,
            "grid_row": null,
            "grid_template_areas": null,
            "grid_template_columns": null,
            "grid_template_rows": null,
            "height": null,
            "justify_content": null,
            "justify_items": null,
            "left": null,
            "margin": null,
            "max_height": null,
            "max_width": null,
            "min_height": null,
            "min_width": null,
            "object_fit": null,
            "object_position": null,
            "order": null,
            "overflow": null,
            "overflow_x": null,
            "overflow_y": null,
            "padding": null,
            "right": null,
            "top": null,
            "visibility": null,
            "width": null
          }
        },
        "45f812db01e4452096e3494740cc43e6": {
          "model_module": "@jupyter-widgets/base",
          "model_name": "LayoutModel",
          "model_module_version": "1.2.0",
          "state": {
            "_model_module": "@jupyter-widgets/base",
            "_model_module_version": "1.2.0",
            "_model_name": "LayoutModel",
            "_view_count": null,
            "_view_module": "@jupyter-widgets/base",
            "_view_module_version": "1.2.0",
            "_view_name": "LayoutView",
            "align_content": null,
            "align_items": null,
            "align_self": null,
            "border": null,
            "bottom": null,
            "display": null,
            "flex": null,
            "flex_flow": null,
            "grid_area": null,
            "grid_auto_columns": null,
            "grid_auto_flow": null,
            "grid_auto_rows": null,
            "grid_column": null,
            "grid_gap": null,
            "grid_row": null,
            "grid_template_areas": null,
            "grid_template_columns": null,
            "grid_template_rows": null,
            "height": null,
            "justify_content": null,
            "justify_items": null,
            "left": null,
            "margin": null,
            "max_height": null,
            "max_width": null,
            "min_height": null,
            "min_width": null,
            "object_fit": null,
            "object_position": null,
            "order": null,
            "overflow": null,
            "overflow_x": null,
            "overflow_y": null,
            "padding": null,
            "right": null,
            "top": null,
            "visibility": null,
            "width": null
          }
        },
        "77c7176f8ab847a4a15567b00a55a0a8": {
          "model_module": "@jupyter-widgets/controls",
          "model_name": "DescriptionStyleModel",
          "model_module_version": "1.5.0",
          "state": {
            "_model_module": "@jupyter-widgets/controls",
            "_model_module_version": "1.5.0",
            "_model_name": "DescriptionStyleModel",
            "_view_count": null,
            "_view_module": "@jupyter-widgets/base",
            "_view_module_version": "1.2.0",
            "_view_name": "StyleView",
            "description_width": ""
          }
        },
        "44d7c5b0fe374491821bc0064646c768": {
          "model_module": "@jupyter-widgets/base",
          "model_name": "LayoutModel",
          "model_module_version": "1.2.0",
          "state": {
            "_model_module": "@jupyter-widgets/base",
            "_model_module_version": "1.2.0",
            "_model_name": "LayoutModel",
            "_view_count": null,
            "_view_module": "@jupyter-widgets/base",
            "_view_module_version": "1.2.0",
            "_view_name": "LayoutView",
            "align_content": null,
            "align_items": null,
            "align_self": null,
            "border": null,
            "bottom": null,
            "display": null,
            "flex": null,
            "flex_flow": null,
            "grid_area": null,
            "grid_auto_columns": null,
            "grid_auto_flow": null,
            "grid_auto_rows": null,
            "grid_column": null,
            "grid_gap": null,
            "grid_row": null,
            "grid_template_areas": null,
            "grid_template_columns": null,
            "grid_template_rows": null,
            "height": null,
            "justify_content": null,
            "justify_items": null,
            "left": null,
            "margin": null,
            "max_height": null,
            "max_width": null,
            "min_height": null,
            "min_width": null,
            "object_fit": null,
            "object_position": null,
            "order": null,
            "overflow": null,
            "overflow_x": null,
            "overflow_y": null,
            "padding": null,
            "right": null,
            "top": null,
            "visibility": null,
            "width": null
          }
        },
        "d0102cf456b14e46816ea39fa5ee3618": {
          "model_module": "@jupyter-widgets/controls",
          "model_name": "ProgressStyleModel",
          "model_module_version": "1.5.0",
          "state": {
            "_model_module": "@jupyter-widgets/controls",
            "_model_module_version": "1.5.0",
            "_model_name": "ProgressStyleModel",
            "_view_count": null,
            "_view_module": "@jupyter-widgets/base",
            "_view_module_version": "1.2.0",
            "_view_name": "StyleView",
            "bar_color": null,
            "description_width": ""
          }
        },
        "ec7a7e45c6e64636a626968e91084735": {
          "model_module": "@jupyter-widgets/base",
          "model_name": "LayoutModel",
          "model_module_version": "1.2.0",
          "state": {
            "_model_module": "@jupyter-widgets/base",
            "_model_module_version": "1.2.0",
            "_model_name": "LayoutModel",
            "_view_count": null,
            "_view_module": "@jupyter-widgets/base",
            "_view_module_version": "1.2.0",
            "_view_name": "LayoutView",
            "align_content": null,
            "align_items": null,
            "align_self": null,
            "border": null,
            "bottom": null,
            "display": null,
            "flex": null,
            "flex_flow": null,
            "grid_area": null,
            "grid_auto_columns": null,
            "grid_auto_flow": null,
            "grid_auto_rows": null,
            "grid_column": null,
            "grid_gap": null,
            "grid_row": null,
            "grid_template_areas": null,
            "grid_template_columns": null,
            "grid_template_rows": null,
            "height": null,
            "justify_content": null,
            "justify_items": null,
            "left": null,
            "margin": null,
            "max_height": null,
            "max_width": null,
            "min_height": null,
            "min_width": null,
            "object_fit": null,
            "object_position": null,
            "order": null,
            "overflow": null,
            "overflow_x": null,
            "overflow_y": null,
            "padding": null,
            "right": null,
            "top": null,
            "visibility": null,
            "width": null
          }
        },
        "e67d9b27300443febb155250f8f920c8": {
          "model_module": "@jupyter-widgets/controls",
          "model_name": "DescriptionStyleModel",
          "model_module_version": "1.5.0",
          "state": {
            "_model_module": "@jupyter-widgets/controls",
            "_model_module_version": "1.5.0",
            "_model_name": "DescriptionStyleModel",
            "_view_count": null,
            "_view_module": "@jupyter-widgets/base",
            "_view_module_version": "1.2.0",
            "_view_name": "StyleView",
            "description_width": ""
          }
        },
        "290f826f18e4432a84a182d7734ada51": {
          "model_module": "@jupyter-widgets/controls",
          "model_name": "HBoxModel",
          "model_module_version": "1.5.0",
          "state": {
            "_dom_classes": [],
            "_model_module": "@jupyter-widgets/controls",
            "_model_module_version": "1.5.0",
            "_model_name": "HBoxModel",
            "_view_count": null,
            "_view_module": "@jupyter-widgets/controls",
            "_view_module_version": "1.5.0",
            "_view_name": "HBoxView",
            "box_style": "",
            "children": [
              "IPY_MODEL_3e1672785c384fedb5aa2ffc98476f84",
              "IPY_MODEL_d2831fd753d343ed900b971121556d3d",
              "IPY_MODEL_1081d0d786c84fc0bf19237fb2d2d71e"
            ],
            "layout": "IPY_MODEL_c8d6013f41cc47c39f819fb4285a5568"
          }
        },
        "3e1672785c384fedb5aa2ffc98476f84": {
          "model_module": "@jupyter-widgets/controls",
          "model_name": "HTMLModel",
          "model_module_version": "1.5.0",
          "state": {
            "_dom_classes": [],
            "_model_module": "@jupyter-widgets/controls",
            "_model_module_version": "1.5.0",
            "_model_name": "HTMLModel",
            "_view_count": null,
            "_view_module": "@jupyter-widgets/controls",
            "_view_module_version": "1.5.0",
            "_view_name": "HTMLView",
            "description": "",
            "description_tooltip": null,
            "layout": "IPY_MODEL_eb22037449a047aea6d2a310f0353a8e",
            "placeholder": "​",
            "style": "IPY_MODEL_e9beb075e0ed4a38a564cfc235a146f7",
            "value": "100%"
          }
        },
        "d2831fd753d343ed900b971121556d3d": {
          "model_module": "@jupyter-widgets/controls",
          "model_name": "FloatProgressModel",
          "model_module_version": "1.5.0",
          "state": {
            "_dom_classes": [],
            "_model_module": "@jupyter-widgets/controls",
            "_model_module_version": "1.5.0",
            "_model_name": "FloatProgressModel",
            "_view_count": null,
            "_view_module": "@jupyter-widgets/controls",
            "_view_module_version": "1.5.0",
            "_view_name": "ProgressView",
            "bar_style": "success",
            "description": "",
            "description_tooltip": null,
            "layout": "IPY_MODEL_f6cc6a4e5afa40f8aee59187a26dbf4f",
            "max": 25,
            "min": 0,
            "orientation": "horizontal",
            "style": "IPY_MODEL_2a683ca3eb2145cda4569e571071f9d4",
            "value": 25
          }
        },
        "1081d0d786c84fc0bf19237fb2d2d71e": {
          "model_module": "@jupyter-widgets/controls",
          "model_name": "HTMLModel",
          "model_module_version": "1.5.0",
          "state": {
            "_dom_classes": [],
            "_model_module": "@jupyter-widgets/controls",
            "_model_module_version": "1.5.0",
            "_model_name": "HTMLModel",
            "_view_count": null,
            "_view_module": "@jupyter-widgets/controls",
            "_view_module_version": "1.5.0",
            "_view_name": "HTMLView",
            "description": "",
            "description_tooltip": null,
            "layout": "IPY_MODEL_b42d382144e14e1ebcd9da13d988ae8d",
            "placeholder": "​",
            "style": "IPY_MODEL_869ac3f3409747a993ad7c4e755fa800",
            "value": " 25/25 [06:53&lt;00:00, 16.48s/it]"
          }
        },
        "c8d6013f41cc47c39f819fb4285a5568": {
          "model_module": "@jupyter-widgets/base",
          "model_name": "LayoutModel",
          "model_module_version": "1.2.0",
          "state": {
            "_model_module": "@jupyter-widgets/base",
            "_model_module_version": "1.2.0",
            "_model_name": "LayoutModel",
            "_view_count": null,
            "_view_module": "@jupyter-widgets/base",
            "_view_module_version": "1.2.0",
            "_view_name": "LayoutView",
            "align_content": null,
            "align_items": null,
            "align_self": null,
            "border": null,
            "bottom": null,
            "display": null,
            "flex": null,
            "flex_flow": null,
            "grid_area": null,
            "grid_auto_columns": null,
            "grid_auto_flow": null,
            "grid_auto_rows": null,
            "grid_column": null,
            "grid_gap": null,
            "grid_row": null,
            "grid_template_areas": null,
            "grid_template_columns": null,
            "grid_template_rows": null,
            "height": null,
            "justify_content": null,
            "justify_items": null,
            "left": null,
            "margin": null,
            "max_height": null,
            "max_width": null,
            "min_height": null,
            "min_width": null,
            "object_fit": null,
            "object_position": null,
            "order": null,
            "overflow": null,
            "overflow_x": null,
            "overflow_y": null,
            "padding": null,
            "right": null,
            "top": null,
            "visibility": null,
            "width": null
          }
        },
        "eb22037449a047aea6d2a310f0353a8e": {
          "model_module": "@jupyter-widgets/base",
          "model_name": "LayoutModel",
          "model_module_version": "1.2.0",
          "state": {
            "_model_module": "@jupyter-widgets/base",
            "_model_module_version": "1.2.0",
            "_model_name": "LayoutModel",
            "_view_count": null,
            "_view_module": "@jupyter-widgets/base",
            "_view_module_version": "1.2.0",
            "_view_name": "LayoutView",
            "align_content": null,
            "align_items": null,
            "align_self": null,
            "border": null,
            "bottom": null,
            "display": null,
            "flex": null,
            "flex_flow": null,
            "grid_area": null,
            "grid_auto_columns": null,
            "grid_auto_flow": null,
            "grid_auto_rows": null,
            "grid_column": null,
            "grid_gap": null,
            "grid_row": null,
            "grid_template_areas": null,
            "grid_template_columns": null,
            "grid_template_rows": null,
            "height": null,
            "justify_content": null,
            "justify_items": null,
            "left": null,
            "margin": null,
            "max_height": null,
            "max_width": null,
            "min_height": null,
            "min_width": null,
            "object_fit": null,
            "object_position": null,
            "order": null,
            "overflow": null,
            "overflow_x": null,
            "overflow_y": null,
            "padding": null,
            "right": null,
            "top": null,
            "visibility": null,
            "width": null
          }
        },
        "e9beb075e0ed4a38a564cfc235a146f7": {
          "model_module": "@jupyter-widgets/controls",
          "model_name": "DescriptionStyleModel",
          "model_module_version": "1.5.0",
          "state": {
            "_model_module": "@jupyter-widgets/controls",
            "_model_module_version": "1.5.0",
            "_model_name": "DescriptionStyleModel",
            "_view_count": null,
            "_view_module": "@jupyter-widgets/base",
            "_view_module_version": "1.2.0",
            "_view_name": "StyleView",
            "description_width": ""
          }
        },
        "f6cc6a4e5afa40f8aee59187a26dbf4f": {
          "model_module": "@jupyter-widgets/base",
          "model_name": "LayoutModel",
          "model_module_version": "1.2.0",
          "state": {
            "_model_module": "@jupyter-widgets/base",
            "_model_module_version": "1.2.0",
            "_model_name": "LayoutModel",
            "_view_count": null,
            "_view_module": "@jupyter-widgets/base",
            "_view_module_version": "1.2.0",
            "_view_name": "LayoutView",
            "align_content": null,
            "align_items": null,
            "align_self": null,
            "border": null,
            "bottom": null,
            "display": null,
            "flex": null,
            "flex_flow": null,
            "grid_area": null,
            "grid_auto_columns": null,
            "grid_auto_flow": null,
            "grid_auto_rows": null,
            "grid_column": null,
            "grid_gap": null,
            "grid_row": null,
            "grid_template_areas": null,
            "grid_template_columns": null,
            "grid_template_rows": null,
            "height": null,
            "justify_content": null,
            "justify_items": null,
            "left": null,
            "margin": null,
            "max_height": null,
            "max_width": null,
            "min_height": null,
            "min_width": null,
            "object_fit": null,
            "object_position": null,
            "order": null,
            "overflow": null,
            "overflow_x": null,
            "overflow_y": null,
            "padding": null,
            "right": null,
            "top": null,
            "visibility": null,
            "width": null
          }
        },
        "2a683ca3eb2145cda4569e571071f9d4": {
          "model_module": "@jupyter-widgets/controls",
          "model_name": "ProgressStyleModel",
          "model_module_version": "1.5.0",
          "state": {
            "_model_module": "@jupyter-widgets/controls",
            "_model_module_version": "1.5.0",
            "_model_name": "ProgressStyleModel",
            "_view_count": null,
            "_view_module": "@jupyter-widgets/base",
            "_view_module_version": "1.2.0",
            "_view_name": "StyleView",
            "bar_color": null,
            "description_width": ""
          }
        },
        "b42d382144e14e1ebcd9da13d988ae8d": {
          "model_module": "@jupyter-widgets/base",
          "model_name": "LayoutModel",
          "model_module_version": "1.2.0",
          "state": {
            "_model_module": "@jupyter-widgets/base",
            "_model_module_version": "1.2.0",
            "_model_name": "LayoutModel",
            "_view_count": null,
            "_view_module": "@jupyter-widgets/base",
            "_view_module_version": "1.2.0",
            "_view_name": "LayoutView",
            "align_content": null,
            "align_items": null,
            "align_self": null,
            "border": null,
            "bottom": null,
            "display": null,
            "flex": null,
            "flex_flow": null,
            "grid_area": null,
            "grid_auto_columns": null,
            "grid_auto_flow": null,
            "grid_auto_rows": null,
            "grid_column": null,
            "grid_gap": null,
            "grid_row": null,
            "grid_template_areas": null,
            "grid_template_columns": null,
            "grid_template_rows": null,
            "height": null,
            "justify_content": null,
            "justify_items": null,
            "left": null,
            "margin": null,
            "max_height": null,
            "max_width": null,
            "min_height": null,
            "min_width": null,
            "object_fit": null,
            "object_position": null,
            "order": null,
            "overflow": null,
            "overflow_x": null,
            "overflow_y": null,
            "padding": null,
            "right": null,
            "top": null,
            "visibility": null,
            "width": null
          }
        },
        "869ac3f3409747a993ad7c4e755fa800": {
          "model_module": "@jupyter-widgets/controls",
          "model_name": "DescriptionStyleModel",
          "model_module_version": "1.5.0",
          "state": {
            "_model_module": "@jupyter-widgets/controls",
            "_model_module_version": "1.5.0",
            "_model_name": "DescriptionStyleModel",
            "_view_count": null,
            "_view_module": "@jupyter-widgets/base",
            "_view_module_version": "1.2.0",
            "_view_name": "StyleView",
            "description_width": ""
          }
        }
      }
    }
  },
  "nbformat": 4,
  "nbformat_minor": 0
}
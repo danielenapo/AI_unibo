{
 "cells": [
  {
   "attachments": {},
   "cell_type": "markdown",
   "metadata": {},
   "source": [
    "# Data analysis\n",
    "Import and fast check of the format"
   ]
  },
  {
   "cell_type": "code",
   "execution_count": null,
   "metadata": {},
   "outputs": [],
   "source": [
    "# import dataset, set feature names\n",
    "df = pd.read_csv(url, names=[\"...\"]])\n",
    "#show head\n",
    "df.dead()\n",
    "#sgow description (mean, std, min, max, etc.)\n",
    "df.describe()"
   ]
  },
  {
   "attachments": {},
   "cell_type": "markdown",
   "metadata": {},
   "source": [
    "## Plots\n",
    "- **histogram** -> show distribution of a feature\n",
    "- **pairplot**\n",
    "- **correlation** -> show statistical correlation\n",
    "- **boxplot** -> to show outliers"
   ]
  },
  {
   "cell_type": "code",
   "execution_count": null,
   "metadata": {},
   "outputs": [],
   "source": [
    "# HISTOGRAMS of ALL numerical features\n",
    "pd.DataFrame.hist(df, figsize = [10,10])\n",
    "# PAIRPLOT \n",
    "sns.pairplot(df, hue=\"targetFeature\", diag_kind=\"kde\")\n",
    "# CORRELATION\n",
    "corr = df.corr()\n",
    "plt.figure(figsize=(15,10)) \n",
    "sns.heatmap(corr, cmap=\"YlGnBu\", annot=True);\n",
    "# BOXPLOT in same plot\n",
    "sns.boxplot(data=df)\n",
    "# BOXPLOT in different plots\n",
    "plt.figure(figsize=(15,15))\n",
    "pos = 1\n",
    "for i in df.columns:\n",
    "    plt.subplot(3, 4, pos)\n",
    "    sns.boxplot(data=df[i])\n",
    "    pos += 1"
   ]
  }
 ],
 "metadata": {
  "kernelspec": {
   "display_name": "Python 3",
   "language": "python",
   "name": "python3"
  },
  "language_info": {
   "name": "python",
   "version": "3.11.1 (main, Jan  6 2023, 00:00:00) [GCC 12.2.1 20221121 (Red Hat 12.2.1-4)]"
  },
  "orig_nbformat": 4,
  "vscode": {
   "interpreter": {
    "hash": "e7370f93d1d0cde622a1f8e1c04877d8463912d04d973331ad4851f04de6915a"
   }
  }
 },
 "nbformat": 4,
 "nbformat_minor": 2
}

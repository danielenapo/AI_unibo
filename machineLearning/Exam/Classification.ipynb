{
 "cells": [
  {
   "attachments": {},
   "cell_type": "markdown",
   "metadata": {},
   "source": [
    "# Classification\n",
    "It's always necessary to separate data into test and train. It can be done with sklearn:"
   ]
  },
  {
   "cell_type": "code",
   "execution_count": null,
   "metadata": {},
   "outputs": [],
   "source": [
    "from sklearn.model_selection import train_test_split\n",
    "X_train, X_test, y_train, y_test= train_test_split(X, y, test_size=0.33, random_state=1)\n",
    "\n"
   ]
  },
  {
   "attachments": {},
   "cell_type": "markdown",
   "metadata": {},
   "source": [
    "## Model evaluation\n",
    "from `sklearn.metrics`\n",
    "- **accuracy_score**\n",
    "- **classification_report** -> full report on accuracy, recall, f1, support, ...\n",
    "- **confusion_matrix**"
   ]
  },
  {
   "cell_type": "code",
   "execution_count": null,
   "metadata": {},
   "outputs": [],
   "source": [
    "# accuracy example\n",
    "from sklearn.metrics import accuracy_score\n",
    "accuracy_score(y_test, y_pred)"
   ]
  },
  {
   "attachments": {},
   "cell_type": "markdown",
   "metadata": {},
   "source": [
    "## Data separation\n",
    "holdout vs crossvalidation"
   ]
  },
  {
   "attachments": {},
   "cell_type": "markdown",
   "metadata": {},
   "source": [
    "# DECISION TREES\n",
    "## Hyperparameters\n",
    "classes from `sklearn.tree`\n",
    "- **criterion** -> purity functions\n",
    "    - gini (default)\n",
    "    - entropy\n",
    "    - missclassification\n",
    "- **max_depth** \n"
   ]
  },
  {
   "cell_type": "code",
   "execution_count": null,
   "metadata": {},
   "outputs": [],
   "source": [
    "# model definition\n",
    "from sklearn.tree import DecisionTreeClassifier\n",
    "model = DecisionTreeClassifier(criterion=\"...\", max_depth=\"...\")\n",
    "# fit and predict\n",
    "model.fit(X_train, y_train)\n",
    "ytrain_pred = model.predict(X_train)"
   ]
  },
  {
   "attachments": {},
   "cell_type": "markdown",
   "metadata": {},
   "source": [
    "## Show decision tree"
   ]
  },
  {
   "cell_type": "code",
   "execution_count": null,
   "metadata": {},
   "outputs": [],
   "source": [
    "from matplotlib import pyplot as plt\n",
    "from sklearn.tree import plot_tree\n",
    "from matplotlib.pyplot import figure\n",
    "\n",
    "plt.figure(figsize=(15,15))\n",
    "sklearn.tree.plot_tree(model, filled=True, \n",
    "                        feature_names =  names, \n",
    "                        class_names = targetNames, \n",
    "                        rounded = True, \n",
    "                        proportion = True)"
   ]
  },
  {
   "attachments": {},
   "cell_type": "markdown",
   "metadata": {},
   "source": [
    "Cross-validation tuning"
   ]
  },
  {
   "cell_type": "code",
   "execution_count": null,
   "metadata": {},
   "outputs": [],
   "source": [
    "scores=[]\n",
    "for par in parameter_values:\n",
    "    dt=tree.DecisionTreeClassifier(criterion=\"gini\", max_depth=par)\n",
    "    dt.fit(X_train, y_train)\n",
    "    y_train_pred = dt.predict(X_train)\n",
    "    scores.append(cross_val_score(dt, X_train, y_train, cv=5, scoring='accuracy').mean())"
   ]
  },
  {
   "attachments": {},
   "cell_type": "markdown",
   "metadata": {},
   "source": [
    "fit after cross-validation with the best-performing hyperparameters"
   ]
  },
  {
   "cell_type": "code",
   "execution_count": null,
   "metadata": {},
   "outputs": [],
   "source": [
    "best_parameter = parameter_values[np.argmax(scores)]\n",
    "estimator=tree.DecisionTreeClassifier(criterion=\"gini\", max_depth=best_parameter)\n",
    "estimator.fit(X_train, y_train)\n",
    "y_test_pred = estimator.predict(X_test)\n",
    "accuracy_cv=accuracy_score(y_test, y_test_pred)*100\n",
    "print(\"test accuracy: \"+str(accuracy_cv))\n",
    "print(\"best parameter: \"+str(best_parameter))"
   ]
  }
 ],
 "metadata": {
  "kernelspec": {
   "display_name": "Python 3",
   "language": "python",
   "name": "python3"
  },
  "language_info": {
   "name": "python",
   "version": "3.11.1 (main, Jan  6 2023, 00:00:00) [GCC 12.2.1 20221121 (Red Hat 12.2.1-4)]"
  },
  "orig_nbformat": 4,
  "vscode": {
   "interpreter": {
    "hash": "e7370f93d1d0cde622a1f8e1c04877d8463912d04d973331ad4851f04de6915a"
   }
  }
 },
 "nbformat": 4,
 "nbformat_minor": 2
}

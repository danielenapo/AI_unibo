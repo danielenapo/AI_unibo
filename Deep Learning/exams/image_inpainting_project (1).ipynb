{
  "cells": [
    {
      "cell_type": "markdown",
      "metadata": {
        "id": "E3r4iIy5PD4_"
      },
      "source": [
        "# Image inpainting over CIFAR-10\n",
        "\n",
        "The purpose of this project is to build and train a neural network for image inpainting over the CIFAR-10 dataset. \n",
        "\n",
        "Inpainting is a restauration process where damaged, deteriorated, or missing parts of an artwork are filled in to present a complete image.\n",
        "\n",
        "In our case, we create the portion of the image to be filled in by cropping a fixed size rectangular area from CIFAR-10 images.\n",
        "\n",
        "The networks must be trained over the training set, and tested on the test set.\n",
        "You can split the train set into a validation set, if you wish.\n",
        "\n",
        "The metrics that will be used to evaluate you result is Mean Square Error."
      ]
    },
    {
      "cell_type": "code",
      "execution_count": 1,
      "metadata": {
        "id": "ZwLQl0kGWwbJ"
      },
      "outputs": [],
      "source": [
        "import tensorflow as tf\n",
        "import numpy as np\n",
        "import matplotlib.pyplot as plt"
      ]
    },
    {
      "cell_type": "code",
      "execution_count": 2,
      "metadata": {
        "id": "nczjezDqXD4Q"
      },
      "outputs": [],
      "source": [
        "from tensorflow.keras import layers, models, metrics\n",
        "from tensorflow.keras.datasets import cifar10"
      ]
    },
    {
      "cell_type": "markdown",
      "metadata": {
        "id": "_tTZ5pBIREKu"
      },
      "source": [
        "Here we load the dataset."
      ]
    },
    {
      "cell_type": "code",
      "execution_count": 3,
      "metadata": {
        "colab": {
          "base_uri": "https://localhost:8080/"
        },
        "id": "-pojWDC2Xca5",
        "outputId": "c29bcd22-925a-4712-fd4f-f7053d09b875"
      },
      "outputs": [
        {
          "output_type": "stream",
          "name": "stdout",
          "text": [
            "Downloading data from https://www.cs.toronto.edu/~kriz/cifar-10-python.tar.gz\n",
            "170498071/170498071 [==============================] - 6s 0us/step\n",
            "image range is 0, 255\n",
            "new image range is 0.0, 1.0\n"
          ]
        }
      ],
      "source": [
        "(x_train, y_train), (x_test, y_test) = cifar10.load_data()\n",
        "print(\"image range is {}, {}\".format(np.min(x_test,axis=(0,1,2,3)),np.max(x_test,axis=(0,1,2,3))))\n",
        "x_train = (x_train/255.).astype(np.float32)\n",
        "x_test = (x_test/255.).astype(np.float32)\n",
        "print(\"new image range is {}, {}\".format(np.min(x_test,axis=(0,1,2,3)),np.max(x_test,axis=(0,1,2,3))))"
      ]
    },
    {
      "cell_type": "markdown",
      "metadata": {
        "id": "34F_YSoxRNet"
      },
      "source": [
        "Let's see some examples."
      ]
    },
    {
      "cell_type": "code",
      "execution_count": 4,
      "metadata": {
        "colab": {
          "base_uri": "https://localhost:8080/",
          "height": 430
        },
        "id": "PMHeUj9PXr02",
        "outputId": "a3f86b08-a27d-4294-cb05-d7eeba99cfe2"
      },
      "outputs": [
        {
          "output_type": "display_data",
          "data": {
            "text/plain": [
              "<Figure size 640x480 with 1 Axes>"
            ],
            "image/png": "[encoded data removed]"
          },
          "metadata": {}
        }
      ],
      "source": [
        "plt.imshow(x_test[1])\n",
        "plt.show()"
      ]
    },
    {
      "cell_type": "markdown",
      "metadata": {
        "id": "s8lEb7qPYfNA"
      },
      "source": [
        "Now we hide a portion of the input, and the purpose of the network is to reconstruct it."
      ]
    },
    {
      "cell_type": "code",
      "execution_count": 5,
      "metadata": {
        "id": "pMUI16TxYdbz"
      },
      "outputs": [],
      "source": [
        "def mask(X,coords):\n",
        "  x0,y0,x1,y1 = coords\n",
        "  X[:,x0:x1,y0:y1] = 0\n",
        "  return X\n",
        "\n",
        "masked_x_train = mask(np.copy(x_train),(2,16,30,30))\n",
        "masked_x_test = mask(np.copy(x_test),(2,16,30,30))"
      ]
    },
    {
      "cell_type": "code",
      "execution_count": 7,
      "metadata": {
        "colab": {
          "base_uri": "https://localhost:8080/",
          "height": 430
        },
        "id": "Vk9gGjGIZ5aG",
        "outputId": "365268b0-0d58-4bac-de2d-34b98ea62400"
      },
      "outputs": [
        {
          "output_type": "display_data",
          "data": {
            "text/plain": [
              "<Figure size 640x480 with 1 Axes>"
            ],
            "image/png": "[encoded data removed]"
          },
          "metadata": {}
        }
      ],
      "source": [
        "plt.imshow(masked_x_test[10])\n",
        "plt.show()"
      ]
    },
    {
      "cell_type": "markdown",
      "metadata": {
        "id": "H1LA9tOFRr3q"
      },
      "source": [
        "# Approaches and evaluation\n",
        "\n",
        "The network is supposed to take in input the masked image and fill in the missing part. \n",
        "\n",
        "You may basically follow two main approaches:\n",
        "*   either you return the full image\n",
        "*   you just return the missing crop\n",
        "\n",
        "In the first case, the mse is to be evaluated on the full image; in the second case just on the crop (since on the reamining part is 0). \n",
        "\n",
        "If you want to take a different approach, you can ask for my approuval.\n",
        "\n"
      ]
    },
    {
      "cell_type": "markdown",
      "metadata": {
        "id": "ClTRv3Myikkg"
      },
      "source": [
        "# What to deliver\n",
        "\n",
        "As usual, you are supposed to deliver a single notebook comprising the code, the training history, and the evaluation on test data in terms of Mean Square Error.\n",
        "\n",
        "Good work!"
      ]
    },
    {
      "cell_type": "markdown",
      "metadata": {
        "id": "DyCSMFn7FSjG"
      },
      "source": [
        "# Model\n",
        "We use Generative Adversarial Networks (GANs) to perform image inpainting on CIFAR10. GANs are composed of two neural networks: a generator and a discriminator. The generator tries to create realistic images that match the input image except for the masked parts, while the discriminator tries to distinguish between real and fake images. The generator and the discriminator compete with each other and improve each other’s performance.\n",
        "\n",
        "We use GANs for image inpainting because they can generate realistic and diverse results that preserve both global and local features of the image. They can also handle irregular and large masks that may be difficult for other methods. GANs are also flexible and can be adapted to different datasets and tasks.\n",
        "\n",
        "We implement GANs on Keras, a high-level deep learning framework. We use an encoder-decoder architecture for the generator and a convolutional network for the discriminator. We train the GAN model with binary crossentropy loss and Adam optimizer. We use callbacks to save the generated images after each epoch and to stop training when there are no more improvements.\n",
        "\n",
        "We evaluate the GAN model by visually inspecting the generated images and comparing them with the original images. We also use quantitative metrics such as peak signal-to-noise ratio (PSNR) and structural similarity index (SSIM) to measure the quality of the inpainted images."
      ]
    },
    {
      "cell_type": "code",
      "execution_count": 30,
      "metadata": {
        "id": "LLIjGswAFSjI"
      },
      "outputs": [],
      "source": [
        "# Import Keras modules\n",
        "from tensorflow.keras import Model\n",
        "from tensorflow.keras import optimizers\n",
        "from tensorflow.keras import Sequential\n",
        "\n",
        "\n",
        "# Define a function to create a GAN model in Keras\n",
        "def createGAN(input_size):\n",
        "    # Define the generator model\n",
        "    generator = Sequential(\n",
        "        [\n",
        "            # Start with an input layer that takes the image as input\n",
        "            layers.InputLayer(input_shape=input_size),\n",
        "            # Convolutional layer with 64 filters and 4x4 kernel\n",
        "            layers.Conv2D(64, (4, 4), strides=(2, 2), padding=\"same\"),\n",
        "            layers.LeakyReLU(alpha=0.2),\n",
        "            # Convolutional layer with 128 filters and 4x4 kernel\n",
        "            layers.Conv2D(128, (4, 4), strides=(2, 2), padding=\"same\"),\n",
        "            layers.LeakyReLU(alpha=0.2),\n",
        "            # Flatten the output\n",
        "            layers.Flatten(),\n",
        "            # Dense layer that maps the flattened output to a random noise vector of size 16384\n",
        "            layers.Dense(16384),\n",
        "            # Reshape the noise vector to a 8x8x256 tensor\n",
        "            layers.Reshape((8, 8, 256)),\n",
        "            # Upsample to 16x16\n",
        "            layers.Conv2DTranspose(128, (5, 5), strides=(2, 2), padding=\"same\", use_bias=False),\n",
        "            layers.BatchNormalization(),\n",
        "            layers.LeakyReLU(),\n",
        "            # Upsample to 32x32\n",
        "            layers.Conv2DTranspose(64, (5, 5), strides=(2, 2), padding=\"same\", use_bias=False),\n",
        "            layers.BatchNormalization(),\n",
        "            layers.LeakyReLU(),\n",
        "            # Output layer with tanh activation\n",
        "            layers.Conv2DTranspose(3, (5, 5), strides=(1, 1), padding=\"same\", use_bias=False, activation=\"tanh\"),\n",
        "        ],\n",
        "        name=\"generator\",\n",
        "    )\n",
        "\n",
        "    # Define the discriminator model\n",
        "    discriminator = Sequential(\n",
        "        [\n",
        "            # Input layer with 32x32x3 images\n",
        "            layers.InputLayer(input_shape=(32, 32, 3)),\n",
        "            # Convolutional layer with 64 filters and 4x4 kernel\n",
        "            layers.Conv2D(64, (4, 4), strides=(2, 2), padding=\"same\"),\n",
        "            layers.LeakyReLU(alpha=0.2),\n",
        "            # Convolutional layer with 128 filters and 4x4 kernel\n",
        "            layers.Conv2D(128, (4, 4), strides=(2, 2), padding=\"same\"),\n",
        "            layers.LeakyReLU(alpha=0.2),\n",
        "            # Flatten the output\n",
        "            layers.Flatten(),\n",
        "            # Output layer with sigmoid activation\n",
        "            layers.Dense(1, activation=\"sigmoid\"),\n",
        "        ],\n",
        "        name=\"discriminator\",\n",
        "    )\n",
        "\n",
        "    # Define the GAN model\n",
        "    gan = Sequential([generator, discriminator])\n",
        "\n",
        "    # Compile the GAN model with MSE loss and Adam optimizer\n",
        "    gan.compile(loss=\"mean_squared_error\", optimizer=optimizers.Adam(learning_rate=0.0002, beta_1=0.5))\n",
        "\n",
        "    # Return the GAN model\n",
        "    return gan\n"
      ]
    },
    {
      "cell_type": "markdown",
      "metadata": {
        "id": "g25qZ3_wFSjJ"
      },
      "source": [
        "## Training\n"
      ]
    },
    {
      "cell_type": "code",
      "execution_count": 34,
      "metadata": {
        "colab": {
          "base_uri": "https://localhost:8080/"
        },
        "id": "z5iDe6TBFSjJ",
        "outputId": "8215255a-1d60-46a7-ca6f-8d6df70305f5"
      },
      "outputs": [
        {
          "output_type": "stream",
          "name": "stdout",
          "text": [
            "Epoch 1/10\n",
            "1563/1563 [==============================] - 76s 40ms/step - loss: 20.5034\n",
            "Epoch 2/10\n",
            "1563/1563 [==============================] - 62s 39ms/step - loss: 20.5000\n",
            "Epoch 3/10\n",
            "1563/1563 [==============================] - 62s 39ms/step - loss: 20.5000\n",
            "Epoch 4/10\n",
            "1563/1563 [==============================] - 61s 39ms/step - loss: 20.5000\n",
            "Epoch 5/10\n",
            "1563/1563 [==============================] - 61s 39ms/step - loss: 20.5000\n",
            "Epoch 6/10\n",
            "1563/1563 [==============================] - 61s 39ms/step - loss: 20.5000\n",
            "Epoch 7/10\n",
            "1563/1563 [==============================] - 60s 39ms/step - loss: 20.5000\n",
            "Epoch 8/10\n",
            "1563/1563 [==============================] - 60s 39ms/step - loss: 20.5000\n",
            "Epoch 9/10\n",
            "1563/1563 [==============================] - 60s 38ms/step - loss: 20.5000\n",
            "Epoch 10/10\n",
            "1563/1563 [==============================] - 62s 39ms/step - loss: 20.5000\n"
          ]
        },
        {
          "output_type": "execute_result",
          "data": {
            "text/plain": [
              "<keras.callbacks.History at 0x7f24802390f0>"
            ]
          },
          "metadata": {},
          "execution_count": 34
        }
      ],
      "source": [
        "from tensorflow.keras.callbacks import Callback\n",
        "epochs=10\n",
        "batch_size=32\n",
        "input_size=(32,32,3)\n",
        "\n",
        "# Create a GAN model using the function defined earlier\n",
        "gan = createGAN(input_size)\n",
        "\n",
        "# Get the generator and the discriminator from the GAN model\n",
        "generator, discriminator = gan.layers\n",
        "\n",
        "# Make the discriminator untrainable when updating the generator\n",
        "discriminator.trainable = False\n",
        "\n",
        "# Define a callback to stop training when there are no more improvements\n",
        "class EarlyStopping(Callback):\n",
        "  def __init__(self, patience):\n",
        "    self.patience = patience # Number of epochs with no improvement to stop training\n",
        "    self.best_loss = np.inf # Best loss value so far\n",
        "    self.wait = 0 # Number of epochs with no improvement so far\n",
        "\n",
        "  def on_epoch_end(self, epoch, logs=None):\n",
        "    # Get the current loss value\n",
        "    current_loss = logs.get(\"loss\")\n",
        "    # Check if it is lower than the best loss value\n",
        "    if current_loss < self.best_loss:\n",
        "      # Update the best loss value and reset the wait counter\n",
        "      self.best_loss = current_loss\n",
        "      self.wait = 0\n",
        "    else:\n",
        "      # Increment the wait counter\n",
        "      self.wait += 1\n",
        "      # Check if the wait counter exceeds the patience value\n",
        "      if self.wait >= self.patience:\n",
        "        # Stop training and restore the best weights\n",
        "        print(f\"\\nEpoch {epoch}: early stopping\")\n",
        "        self.model.stop_training = True\n",
        "        self.model.set_weights(self.best_weights)\n",
        "\n",
        "  def on_train_begin(self, logs=None):\n",
        "    # Initialize the best weights at the start of training\n",
        "    self.best_weights = self.model.get_weights()\n",
        "\n",
        "# Create instances of the callbacks\n",
        "early_stopping = EarlyStopping(patience=10)\n",
        "\n",
        "# Train the GAN model with the CIFAR10 dataset and the callbacks\n",
        "gan.fit(x_train, y_train,epochs=epochs, batch_size=batch_size)#, callbacks=[gan_monitor, early_stopping])"
      ]
    },
    {
      "cell_type": "markdown",
      "metadata": {
        "id": "00hSdSBvFSjK"
      },
      "source": [
        "# Testing\n"
      ]
    },
    {
      "cell_type": "code",
      "execution_count": 53,
      "metadata": {
        "colab": {
          "base_uri": "https://localhost:8080/"
        },
        "id": "gGXGaLKdFSjK",
        "outputId": "1243a43c-9183-4eac-8576-5258ba994184"
      },
      "outputs": [
        {
          "output_type": "stream",
          "name": "stdout",
          "text": [
            "1/1 [==============================] - 0s 30ms/step\n",
            "(1, 32, 32, 3)\n"
          ]
        }
      ],
      "source": [
        "# Add a batch dimension to the image\n",
        "image = np.expand_dims(masked_x_test[10], axis=0)\n",
        "\n",
        "# Predict a fake image from the generator model\n",
        "pred = generator.predict(image)\n",
        "print(pred.shape)"
      ]
    },
    {
      "cell_type": "code",
      "source": [
        "plt.figure(figsize=(10,5))\n",
        "\n",
        "plt.subplot(1,3,1)\n",
        "plt.imshow(x_test[10])\n",
        "plt.title(\"original image\")\n",
        "\n",
        "plt.subplot(1,3,2)\n",
        "plt.imshow(masked_x_test[10])\n",
        "plt.title(\"masked image to fill\")\n",
        "\n",
        "plt.subplot(1,3,3)\n",
        "plt.imshow(pred[0])\n",
        "plt.title(\"generated image\")\n"
      ],
      "metadata": {
        "colab": {
          "base_uri": "https://localhost:8080/",
          "height": 345
        },
        "id": "3ay8nmp-Ooso",
        "outputId": "f05b6568-7e0b-4ccf-9294-cf4b1e7b1b96"
      },
      "execution_count": 55,
      "outputs": [
        {
          "output_type": "stream",
          "name": "stderr",
          "text": [
            "WARNING:matplotlib.image:Clipping input data to the valid range for imshow with RGB data ([0..1] for floats or [0..255] for integers).\n"
          ]
        },
        {
          "output_type": "execute_result",
          "data": {
            "text/plain": [
              "Text(0.5, 1.0, 'generated image')"
            ]
          },
          "metadata": {},
          "execution_count": 55
        },
        {
          "output_type": "display_data",
          "data": {
            "text/plain": [
              "<Figure size 1000x500 with 3 Axes>"
            ],
            "image/png": "[encoded data removed]"
          },
          "metadata": {}
        }
      ]
    }
  ],
  "metadata": {
    "accelerator": "GPU",
    "colab": {
      "provenance": []
    },
    "gpuClass": "standard",
    "kernelspec": {
      "display_name": "Python 3",
      "name": "python3"
    },
    "language_info": {
      "name": "python"
    }
  },
  "nbformat": 4,
  "nbformat_minor": 0
}
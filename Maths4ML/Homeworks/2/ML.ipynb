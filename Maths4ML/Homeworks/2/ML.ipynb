{
 "cells": [
  {
   "cell_type": "code",
   "execution_count": 2,
   "metadata": {},
   "outputs": [],
   "source": [
    "import pandas as pd\n",
    "import numpy as np"
   ]
  },
  {
   "cell_type": "code",
   "execution_count": 4,
   "metadata": {},
   "outputs": [
    {
     "name": "stdout",
     "output_type": "stream",
     "text": [
      "   label  pixel0  pixel1  pixel2  pixel3  pixel4  pixel5  pixel6  pixel7  \\\n",
      "0      1       0       0       0       0       0       0       0       0   \n",
      "1      0       0       0       0       0       0       0       0       0   \n",
      "2      1       0       0       0       0       0       0       0       0   \n",
      "3      4       0       0       0       0       0       0       0       0   \n",
      "4      0       0       0       0       0       0       0       0       0   \n",
      "\n",
      "   pixel8  ...  pixel774  pixel775  pixel776  pixel777  pixel778  pixel779  \\\n",
      "0       0  ...         0         0         0         0         0         0   \n",
      "1       0  ...         0         0         0         0         0         0   \n",
      "2       0  ...         0         0         0         0         0         0   \n",
      "3       0  ...         0         0         0         0         0         0   \n",
      "4       0  ...         0         0         0         0         0         0   \n",
      "\n",
      "   pixel780  pixel781  pixel782  pixel783  \n",
      "0         0         0         0         0  \n",
      "1         0         0         0         0  \n",
      "2         0         0         0         0  \n",
      "3         0         0         0         0  \n",
      "4         0         0         0         0  \n",
      "\n",
      "[5 rows x 785 columns]\n"
     ]
    }
   ],
   "source": [
    "#load data into memory\n",
    "data=pd.read_csv(\"data.csv\")\n",
    "print(data.head())"
   ]
  },
  {
   "cell_type": "code",
   "execution_count": 13,
   "metadata": {},
   "outputs": [
    {
     "name": "stdout",
     "output_type": "stream",
     "text": [
      "total shape:(42000, 785)\n",
      "Y shape: (42000,)\n",
      "X shape: (784, 42000)\n"
     ]
    }
   ],
   "source": [
    "#convert data into matrix\n",
    "data=np.array(data)\n",
    "print(f\"total shape:{data.shape}\")\n",
    "#dataset has 42000 images, each of resolution 28*28 pixels (784 flattened pixels per image)\n",
    "#flattening: take a matrix and convert it to a vector\n",
    "#datasets of images are always flattened\n",
    "#each image is labelled (the label says which number is rapresented), so we have 785 columns in total\n",
    "#we're gonna split the data intto a matrix X and a vector Y, where:\n",
    "#X is of dimension (42000, 784) -> just images\n",
    "#Y is of dimension (42000, ) -> just label [first column of the 785]\n",
    "X=data[:,1:].T #slicind is a light computational way to split data\n",
    "Y=data[:,0]\n",
    "print(f\"Y shape: {Y.shape}\")\n",
    "print(f\"X shape: {X.shape}\")\n",
    "\n",
    "d,N=X.shape"
   ]
  },
  {
   "cell_type": "code",
   "execution_count": 19,
   "metadata": {},
   "outputs": [
    {
     "name": "stdout",
     "output_type": "stream",
     "text": [
      "label: 8\n"
     ]
    },
    {
     "data": {
      "image/png": "[encoded data removed]",
      "text/plain": [
       "<Figure size 640x480 with 1 Axes>"
      ]
     },
     "metadata": {},
     "output_type": "display_data"
    }
   ],
   "source": [
    "#how to visualize images in python?\n",
    "import matplotlib.pyplot as plt\n",
    "#load an image in memory\n",
    "idx=10 #tenth image\n",
    "img=X[:,idx] #we take all the rows of the 10th column (flattened matrix)\n",
    "#recreate matrix from the flattened vector\n",
    "img=np.reshape(img, (28,28))\n",
    "#visualize image with matplotlib\n",
    "print(f\"label: {Y[idx]}\")\n",
    "plt.imshow(img, cmap=\"gray\")#cmap says which encoding is used to rapresent images\n",
    "plt.show()\n"
   ]
  },
  {
   "cell_type": "code",
   "execution_count": 46,
   "metadata": {},
   "outputs": [
    {
     "name": "stdout",
     "output_type": "stream",
     "text": [
      "(30000, 784) (12000, 784)\n"
     ]
    }
   ],
   "source": [
    "#create a function\n",
    "#takes in input a dataset X and an integer Ntrain, that returns 2 datasets (Xtrain, Xtest)\n",
    "#where Xtrain has Ntrain random samples from X\n",
    "#Xtest has the rest of the dataset\n",
    "\n",
    "def splitDataset(X, Y, Ntrain):\n",
    "    d,N=X.shape\n",
    "    X=X.T\n",
    "    idx=np.arange(N)\n",
    "    np.random.shuffle(idx)\n",
    "    Ntest=N-Ntrain\n",
    "\n",
    "    Xtrain=np.zeros((Ntrain,784))\n",
    "    Ytrain=np.zeros((Ntrain))\n",
    "    Xtest=np.zeros((Ntest,784))\n",
    "    Ytest=np.zeros((Ntest))\n",
    "\n",
    "    for i in range(Ntrain):\n",
    "        Xtrain[i]=X[idx[i]]\n",
    "        Ytrain[i]=Y[idx[i]]\n",
    "        \n",
    "    j=0\n",
    "    for i in range(Ntrain, N):\n",
    "        Xtest[j]=X[idx[i]]\n",
    "        Ytest[j]=Y[idx[i]]\n",
    "        j+=1\n",
    "\n",
    "    return (Xtrain, Xtest), (Ytrain, Ytest)\n",
    "\n",
    "(Xtrain, Xtest), (Ytrain, Ytest)=(splitDataset(X, Y, 30000))\n",
    "print(Xtrain.shape, Xtest.shape)"
   ]
  },
  {
   "cell_type": "markdown",
   "metadata": {},
   "source": []
  },
  {
   "cell_type": "code",
   "execution_count": null,
   "metadata": {},
   "outputs": [],
   "source": [
    "#SVD of a matrix A:\n",
    "#U, s, V= np.linalg.svd(A)\n",
    "#use only the training data Xtrain\n",
    "#write a function that takes as input a matrix X and an integer k and returns Z=Uk.T*X, the PCA of X\n",
    "def PCA(X, k):\n",
    "    #calculate centroid Xc\n",
    "    c=np.mean(X, axis=1)\n",
    "    Xc=X-c.reshape(d,1)\n",
    "    \n",
    "    \n",
    "\n",
    "\n",
    "        "
   ]
  }
 ],
 "metadata": {
  "kernelspec": {
   "display_name": "Python 3.9.13 ('base')",
   "language": "python",
   "name": "python3"
  },
  "language_info": {
   "codemirror_mode": {
    "name": "ipython",
    "version": 3
   },
   "file_extension": ".py",
   "mimetype": "text/x-python",
   "name": "python",
   "nbconvert_exporter": "python",
   "pygments_lexer": "ipython3",
   "version": "3.9.13"
  },
  "orig_nbformat": 4,
  "vscode": {
   "interpreter": {
    "hash": "ad2bdc8ecc057115af97d19610ffacc2b4e99fae6737bb82f5d7fb13d2f2c186"
   }
  }
 },
 "nbformat": 4,
 "nbformat_minor": 2
}

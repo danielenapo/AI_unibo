{
 "cells": [
  {
   "cell_type": "code",
   "execution_count": 2,
   "metadata": {},
   "outputs": [],
   "source": [
    "import pandas as pd\n",
    "import numpy as np\n",
    "import matplotlib.pyplot as plt\n"
   ]
  },
  {
   "cell_type": "markdown",
   "metadata": {},
   "source": [
    "import MINST data, split it into X ad Y, isolate X1, X2 and X3 from X <br>\n",
    "where X1 = subdata of X containing 0, X2 = 6, X3 = 9"
   ]
  },
  {
   "cell_type": "code",
   "execution_count": 3,
   "metadata": {},
   "outputs": [],
   "source": [
    "#load data into memory\n",
    "data=pd.read_csv(\"data.csv\")\n",
    "#convert data into matrix\n",
    "data=np.array(data)\n",
    "#split data into X and Y\n",
    "X=data[:,1:].T \n",
    "Y=data[:,0]\n",
    "#isolate X1, X2, X3\n",
    "'''i1=[], i2=[], i3=[]\n",
    "for i in Y:\n",
    "    if(Y[i]==0):\n",
    "        i1.append(i)\n",
    "    elif(Y[i]==6):\n",
    "        i2.append(i)\n",
    "    elif(Y[i]==9):\n",
    "        i3.append(i)'''\n",
    "#this is the same as:\n",
    "i1= (Y==0)\n",
    "i2= (Y==6)\n",
    "i3= (Y==9)\n",
    "\n",
    "X1=X[:, i1]\n",
    "X2=X[:, i2]\n",
    "X3=X[:, i3]\n",
    "\n",
    "Y1=Y[i1]\n",
    "Y2=Y[i2]\n",
    "Y3=Y[i3]\n",
    "\n",
    "#plt.imshow(X1[:,0], (28,28), cmap=\"grey\")"
   ]
  },
  {
   "cell_type": "code",
   "execution_count": 4,
   "metadata": {},
   "outputs": [],
   "source": [
    "X=np.concatenate((X1,X2,X3), axis=1)\n",
    "Y=np.concatenate((Y1,Y2,Y3))"
   ]
  },
  {
   "cell_type": "markdown",
   "metadata": {},
   "source": [
    "the difference between PCA and LDA is the <b>class centroid</b>\n",
    "which is the centroid calculated considering just the class k"
   ]
  },
  {
   "cell_type": "code",
   "execution_count": 5,
   "metadata": {},
   "outputs": [
    {
     "data": {
      "text/plain": [
       "<matplotlib.image.AxesImage at 0x25eec690ac0>"
      ]
     },
     "execution_count": 5,
     "metadata": {},
     "output_type": "execute_result"
    },
    {
     "data": {
      "image/png": "[encoded data removed]",
      "text/plain": [
       "<Figure size 640x480 with 1 Axes>"
      ]
     },
     "metadata": {},
     "output_type": "display_data"
    }
   ],
   "source": [
    "#calculate global and class centroids\n",
    "\n",
    "#global centroid\n",
    "C=np.mean(X, axis=1)\n",
    "\n",
    "#class centroids\n",
    "C1=np.mean(X1, axis=1)\n",
    "C2=np.mean(X2, axis=1)\n",
    "C3=np.mean(X3, axis=1)\n",
    "\n",
    "plt.imshow(np.reshape(C1,(28,28)), cmap=\"gray\") #C1 is the IMAGE (28*28), mean of all zeros"
   ]
  },
  {
   "cell_type": "code",
   "execution_count": 6,
   "metadata": {},
   "outputs": [
    {
     "name": "stdout",
     "output_type": "stream",
     "text": [
      "(784, 784)\n"
     ]
    }
   ],
   "source": [
    "d=784\n",
    "X1c=X1-C1.reshape((d,1))\n",
    "X2c=X2-C2.reshape((d,1))\n",
    "X3c=X3-C3.reshape((d,1))\n",
    "\n",
    "Xw=np.concatenate((X1c, X2c, X3c), axis=1)\n",
    "Sw= Xw@Xw.T #represents the spread of the data within each cluster\n",
    "#it's SYMMETRICAL by construction\n",
    "#it's not positive definite by contruction\n",
    "\n",
    "\n",
    "Xbar1= np.repeat(C1.reshape(d,1), X1.shape[1], axis=1)\n",
    "Xbar2= np.repeat(C2.reshape(d,1), X2.shape[1], axis=1)\n",
    "Xbar3= np.repeat(C3.reshape(d,1), X3.shape[1], axis=1)\n",
    "\n",
    "Xbar=np.concatenate((Xbar1, Xbar2, Xbar3), axis=1)\n",
    "Xbarc=Xbar-C.reshape((d,1)) #we can't subtract matrix and vector, but we can subtract matrix and column vector (that's wy we reshape C)\n",
    "\n",
    "Sb=Xbarc @ Xbarc.T #represent the spread between different clusters\n",
    "print(Sb.shape)"
   ]
  },
  {
   "cell_type": "markdown",
   "metadata": {},
   "source": [
    "we need to <b>minimize Sw</b> and <b>maximize Sb</b> <br>\n",
    "we use cholesky decomposition (LU for positive definite matrixes)<br>\n",
    "Sw is symmetric, but we have to make it positive definite (<b>\"regularize\"</b>), by adding epsilon\\*I (epsilon=1\\*10^-6, I is the identical matrix)<br>\n",
    "function <b><i>np.linalg.cholesky(Sw)</i></b>"
   ]
  },
  {
   "cell_type": "code",
   "execution_count": 10,
   "metadata": {},
   "outputs": [
    {
     "name": "stdout",
     "output_type": "stream",
     "text": [
      "(784, 784)\n"
     ]
    }
   ],
   "source": [
    "try:\n",
    "    L=np.linalg.cholesky(Sw)\n",
    "except:\n",
    "    epsilon=1e-6\n",
    "    Sw=Sw+(epsilon*np.eye(Sw.shape[0]))\n",
    "    L=np.linalg.cholesky(Sw)\n",
    "print(L.shape)\n"
   ]
  },
  {
   "cell_type": "markdown",
   "metadata": {},
   "source": [
    " given a number k (representing the dimension on which we want to project), compute the matrix W, whose column are the first k <b>LARGEST</b> eigenvectors of L@Sb@LT.<br>\n",
    " HINT: use <i>scipy.sparse.linalg.eigs()</i> and truncate first k columns (k=2, passed as parameter)"
   ]
  },
  {
   "cell_type": "code",
   "execution_count": 58,
   "metadata": {},
   "outputs": [
    {
     "name": "stdout",
     "output_type": "stream",
     "text": [
      "(784, 2)\n"
     ]
    }
   ],
   "source": [
    "import scipy.sparse.linalg as sp\n",
    "\n",
    "tmp=np.linalg.inv(L)@Sb@L.T\n",
    "v,W=sp.eigs(tmp, k=2)\n",
    "W=np.real(W) #W should be made of real values, but because of machine \n",
    "print(W.shape)"
   ]
  },
  {
   "cell_type": "markdown",
   "metadata": {},
   "source": [
    "Now we want to calculate the projection matrix Q=L^-1@W"
   ]
  },
  {
   "cell_type": "code",
   "execution_count": 59,
   "metadata": {},
   "outputs": [
    {
     "name": "stdout",
     "output_type": "stream",
     "text": [
      "(2, 784)\n"
     ]
    }
   ],
   "source": [
    "Q=np.linalg.inv(L)@W\n",
    "print(Q.T.shape)"
   ]
  },
  {
   "cell_type": "markdown",
   "metadata": {},
   "source": [
    "Now we project X in W and plot with plt.scatter"
   ]
  },
  {
   "cell_type": "code",
   "execution_count": 60,
   "metadata": {},
   "outputs": [
    {
     "name": "stdout",
     "output_type": "stream",
     "text": [
      "(2, 12457)\n"
     ]
    },
    {
     "data": {
      "image/png": "[encoded data removed]",
      "text/plain": [
       "<Figure size 640x480 with 1 Axes>"
      ]
     },
     "metadata": {},
     "output_type": "display_data"
    }
   ],
   "source": [
    "Z=Q.T@X\n",
    "print(Z.shape)\n",
    "plt.scatter(Z[0,:], Z[1,:], c=Y) #c means color -> we color the data based on the label\n",
    "plt.show()"
   ]
  },
  {
   "cell_type": "markdown",
   "metadata": {},
   "source": [
    "NOTE: LDA is more accurate (in classification) but slower. PCA is faster but less accurate.<br>\n",
    "We can calculate accuracy using the test sets (average of correct guesses)"
   ]
  }
 ],
 "metadata": {
  "kernelspec": {
   "display_name": "Python 3.9.13 ('base')",
   "language": "python",
   "name": "python3"
  },
  "language_info": {
   "codemirror_mode": {
    "name": "ipython",
    "version": 3
   },
   "file_extension": ".py",
   "mimetype": "text/x-python",
   "name": "python",
   "nbconvert_exporter": "python",
   "pygments_lexer": "ipython3",
   "version": "3.9.13"
  },
  "orig_nbformat": 4,
  "vscode": {
   "interpreter": {
    "hash": "ad2bdc8ecc057115af97d19610ffacc2b4e99fae6737bb82f5d7fb13d2f2c186"
   }
  }
 },
 "nbformat": 4,
 "nbformat_minor": 2
}

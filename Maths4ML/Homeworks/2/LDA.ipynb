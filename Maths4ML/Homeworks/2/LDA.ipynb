{
 "cells": [
  {
   "cell_type": "code",
   "execution_count": 14,
   "metadata": {},
   "outputs": [],
   "source": [
    "import pandas as pd\n",
    "import numpy as np\n",
    "import matplotlib.pyplot as plt\n"
   ]
  },
  {
   "cell_type": "markdown",
   "metadata": {},
   "source": [
    "import MINST data, split it into X ad Y, isolate X1, X2 and X3 from X <br>\n",
    "where X1 = subdata of X containing 0, X2 = 6, X3 = 9"
   ]
  },
  {
   "cell_type": "code",
   "execution_count": 15,
   "metadata": {},
   "outputs": [
    {
     "name": "stdout",
     "output_type": "stream",
     "text": [
      "(784, 7474)\n"
     ]
    }
   ],
   "source": [
    "def trainTestSets(X, Y, perc,N):\n",
    "    trainSize=int(perc*N/100)\n",
    "    Xtrain=X[:,:trainSize]\n",
    "    Ytrain=Y[:trainSize]\n",
    "    Xtest=X[:,trainSize:N]\n",
    "    Ytest=Y[trainSize:N]\n",
    "    return Xtrain, Ytrain, Xtest, Ytest\n",
    "\n",
    "data=pd.read_csv(\"data.csv\")\n",
    "data=np.array(data)\n",
    "np.random.shuffle(data)\n",
    "X=data[:,1:].T \n",
    "Y=data[:,0]\n",
    "\n",
    "i1= (Y==0)\n",
    "i2= (Y==6)\n",
    "i3= (Y==9)\n",
    "X=X[:, i1+i2+i3]\n",
    "Y=Y[i1+i2+i3]\n",
    "d,N=X.shape\n",
    "\n",
    "Xtrain, Ytrain, Xtest, Ytest = trainTestSets(X,Y,60,N)\n",
    "print(Xtrain.shape)\n",
    "i1= (Ytrain==0)\n",
    "i2= (Ytrain==6)\n",
    "i3= (Ytrain==9)\n",
    "X1=Xtrain[:, i1]\n",
    "X2=Xtrain[:, i2]\n",
    "X3=Xtrain[:, i3]\n",
    "\n",
    "Y1=Ytrain[i1]\n",
    "Y2=Ytrain[i2]\n",
    "Y3=Ytrain[i3]\n"
   ]
  },
  {
   "cell_type": "code",
   "execution_count": 16,
   "metadata": {},
   "outputs": [],
   "source": [
    "Xtrain=np.concatenate((X1,X2,X3), axis=1)\n",
    "Ytrain=np.concatenate((Y1,Y2,Y3))"
   ]
  },
  {
   "cell_type": "markdown",
   "metadata": {},
   "source": [
    "the difference between PCA and LDA is the <b>class centroid</b>\n",
    "which is the centroid calculated considering just the class k"
   ]
  },
  {
   "cell_type": "code",
   "execution_count": 17,
   "metadata": {},
   "outputs": [
    {
     "data": {
      "text/plain": [
       "<matplotlib.image.AxesImage at 0x22f002d4510>"
      ]
     },
     "execution_count": 17,
     "metadata": {},
     "output_type": "execute_result"
    },
    {
     "data": {
      "image/png": "[encoded data removed]",
      "text/plain": [
       "<Figure size 640x480 with 1 Axes>"
      ]
     },
     "metadata": {},
     "output_type": "display_data"
    }
   ],
   "source": [
    "C=np.mean(Xtrain, axis=1)\n",
    "\n",
    "C1=np.mean(X1, axis=1)\n",
    "C2=np.mean(X2, axis=1)\n",
    "C3=np.mean(X3, axis=1)\n",
    "\n",
    "plt.imshow(np.reshape(C1,(28,28)), cmap=\"gray\") #C1 is the IMAGE (28*28), mean of all zeros"
   ]
  },
  {
   "cell_type": "code",
   "execution_count": 18,
   "metadata": {},
   "outputs": [
    {
     "name": "stdout",
     "output_type": "stream",
     "text": [
      "(784, 784)\n"
     ]
    }
   ],
   "source": [
    "d=784\n",
    "X1c=X1-C1.reshape((d,1))\n",
    "X2c=X2-C2.reshape((d,1))\n",
    "X3c=X3-C3.reshape((d,1))\n",
    "\n",
    "Xw=np.concatenate((X1c, X2c, X3c), axis=1)\n",
    "Sw= Xw@Xw.T #represents the spread of the data within each cluster\n",
    "#it's SYMMETRICAL by construction\n",
    "#it's not positive definite by contruction\n",
    "\n",
    "\n",
    "Xbar1= np.repeat(C1.reshape(d,1), X1.shape[1], axis=1)\n",
    "Xbar2= np.repeat(C2.reshape(d,1), X2.shape[1], axis=1)\n",
    "Xbar3= np.repeat(C3.reshape(d,1), X3.shape[1], axis=1)\n",
    "\n",
    "Xbar=np.concatenate((Xbar1, Xbar2, Xbar3), axis=1)\n",
    "Xbarc=Xbar-C.reshape((d,1)) #we can't subtract matrix and vector, but we can subtract matrix and column vector (that's wy we reshape C)\n",
    "\n",
    "Sb=Xbarc @ Xbarc.T #represent the spread between different clusters\n",
    "print(Sb.shape)"
   ]
  },
  {
   "cell_type": "markdown",
   "metadata": {},
   "source": [
    "we need to <b>minimize Sw</b> and <b>maximize Sb</b> <br>\n",
    "we use cholesky decomposition (LU for positive definite matrixes)<br>\n",
    "Sw is symmetric, but we have to make it positive definite (<b>\"regularize\"</b>), by adding epsilon\\*I (epsilon=1e-6, I is the identical matrix)<br>\n",
    "function <b><i>np.linalg.cholesky(Sw)</i></b>"
   ]
  },
  {
   "cell_type": "code",
   "execution_count": 19,
   "metadata": {},
   "outputs": [
    {
     "name": "stdout",
     "output_type": "stream",
     "text": [
      "(784, 784)\n"
     ]
    }
   ],
   "source": [
    "try:\n",
    "    L=np.linalg.cholesky(Sw)\n",
    "except:\n",
    "    epsilon=1e-6\n",
    "    Sw=Sw+(epsilon*np.eye(Sw.shape[0]))\n",
    "    L=np.linalg.cholesky(Sw)\n",
    "print(L.shape)\n"
   ]
  },
  {
   "cell_type": "markdown",
   "metadata": {},
   "source": [
    " given a number k (representing the dimension on which we want to project), compute the matrix W, whose column are the first k <b>LARGEST</b> eigenvectors of L@Sb@LT.<br>\n",
    " HINT: use <i>scipy.sparse.linalg.eigs()</i> and truncate first k columns (k=2, passed as parameter)"
   ]
  },
  {
   "cell_type": "code",
   "execution_count": 20,
   "metadata": {},
   "outputs": [
    {
     "name": "stdout",
     "output_type": "stream",
     "text": [
      "(784, 2)\n"
     ]
    }
   ],
   "source": [
    "import scipy.sparse.linalg as sp\n",
    "\n",
    "tmp=np.linalg.inv(L)@Sb@L\n",
    "v,W=sp.eigs(tmp, k=2)\n",
    "W=np.real(W) #W should be made of real values, but because of machine \n",
    "print(W.shape)"
   ]
  },
  {
   "cell_type": "markdown",
   "metadata": {},
   "source": [
    "Now we want to calculate the projection matrix Q=L^-1@W"
   ]
  },
  {
   "cell_type": "code",
   "execution_count": 21,
   "metadata": {},
   "outputs": [
    {
     "name": "stdout",
     "output_type": "stream",
     "text": [
      "(2, 784)\n"
     ]
    }
   ],
   "source": [
    "Q=np.linalg.inv(L.T)@W\n",
    "print(Q.T.shape)"
   ]
  },
  {
   "cell_type": "markdown",
   "metadata": {},
   "source": [
    "Now we project X in W and plot with plt.scatter<br>\n",
    "We also project the centroids, so we can plot them with the points in 2D"
   ]
  },
  {
   "cell_type": "code",
   "execution_count": 22,
   "metadata": {},
   "outputs": [
    {
     "name": "stdout",
     "output_type": "stream",
     "text": [
      "(2, 1)\n"
     ]
    },
    {
     "data": {
      "image/png": "[encoded data removed]",
      "text/plain": [
       "<Figure size 640x480 with 1 Axes>"
      ]
     },
     "metadata": {},
     "output_type": "display_data"
    }
   ],
   "source": [
    "k=2\n",
    "Z=Q.T@Xtrain\n",
    "\n",
    "Z1=Z[:,Ytrain==0]\n",
    "Z2=Z[:,Ytrain==6]\n",
    "Z3=Z[:,Ytrain==9]\n",
    "plt.scatter(Z1[0,:], Z1[1,:], label=\"0\") \n",
    "plt.scatter(Z2[0,:], Z2[1,:], label=\"6\") \n",
    "plt.scatter(Z3[0,:], Z3[1,:], label=\"9\") \n",
    "\n",
    "#compute centroids\n",
    "C1z=np.mean(Z1, axis=1).reshape(k,1)\n",
    "C2z=np.mean(Z2, axis=1).reshape(k,1)\n",
    "C3z=np.mean(Z3, axis=1).reshape(k,1)\n",
    "Cz=np.mean(Z, axis=1).reshape(k,1)\n",
    "print(C1z.shape)\n",
    "\n",
    "plt.scatter(C1z[0], C1z[1], c=\"blue\",s=30, marker=\"x\", label=\"Cluster centroids\")\n",
    "plt.scatter(C2z[0], C2z[1], c=\"blue\",s=30, marker=\"x\")\n",
    "plt.scatter(C3z[0], C3z[1], c=\"blue\",s=30, marker=\"x\")\n",
    "plt.scatter(Cz[0], Cz[1], c=\"black\",s=200, marker=\"o\", label=\"Global centroid\")\n",
    "plt.legend()\n",
    "plt.show()"
   ]
  },
  {
   "cell_type": "markdown",
   "metadata": {},
   "source": [
    "\n",
    "NOTE: LDA is more accurate (in classification), and better shows the distinction between different classes, but is slower compared to PCA.<br> \n",
    "PCA is faster, but less accurate than LDA, and classes overlap on each other when plotted, making it diffucult to distinguish them.<br>\n"
   ]
  },
  {
   "cell_type": "code",
   "execution_count": 23,
   "metadata": {},
   "outputs": [
    {
     "name": "stdout",
     "output_type": "stream",
     "text": [
      "average distance form C1: 0.00347167162058795\n",
      "average distance form C2: 0.0027311548044318492\n",
      "average distance form C3: 0.00809224227367698\n"
     ]
    }
   ],
   "source": [
    "D1=[]\n",
    "for i in range(Z1.shape[1]):\n",
    "    D1.append(np.linalg.norm(Z1[:,i]-C1z,2)**2)\n",
    "print(f\"average distance form C1: {np.mean(D1)}\")\n",
    "\n",
    "D2=0\n",
    "for i in range(Z2.shape[1]):\n",
    "    D2+=np.linalg.norm(Z2[:,i]-C2z, 2)**2\n",
    "D2=D2/Z2.shape[1]\n",
    "print(f\"average distance form C2: {D2}\")\n",
    "\n",
    "D3=0\n",
    "for i in range(Z3.shape[1]):\n",
    "    D3+=np.linalg.norm(Z3[:,i]-C3z, 2)**2\n",
    "D3=D3/Z3.shape[1]\n",
    "print(f\"average distance form C3: {D3}\")"
   ]
  },
  {
   "cell_type": "markdown",
   "metadata": {},
   "source": [
    "We can calculate accuracy using the test sets (average of correct guesses)"
   ]
  },
  {
   "cell_type": "code",
   "execution_count": 24,
   "metadata": {},
   "outputs": [
    {
     "name": "stdout",
     "output_type": "stream",
     "text": [
      "total datapoints: 4983\n",
      "matches: 4467\n",
      "prediction accuracy = 0.8964479229379891\n"
     ]
    }
   ],
   "source": [
    "def min(vec):\n",
    "    min=100000000\n",
    "    ind=0\n",
    "    for i in vec:\n",
    "        if i<min:\n",
    "            min=i\n",
    "            minInd=ind\n",
    "        ind+=1\n",
    "    return minInd\n",
    "\n",
    "Ztest=Q.T@Xtest\n",
    "testSize=Ztest.shape[1]\n",
    "\n",
    "Ypredict=[]\n",
    "for i in range(testSize):\n",
    "    D1=np.linalg.norm(Ztest[:,i]-C1z, 2)**2\n",
    "    D2=np.linalg.norm(Ztest[:,i]-C2z, 2)**2\n",
    "    D3=np.linalg.norm(Ztest[:,i]-C3z, 2)**2\n",
    "    minInd=min([D1,D2,D3])  \n",
    "    if(minInd==0):\n",
    "        Ypredict.append(0)\n",
    "    elif(minInd==1):\n",
    "        Ypredict.append(6)\n",
    "    else:\n",
    "        Ypredict.append(9)\n",
    "\n",
    "print(\"total datapoints:\",len(Ypredict))\n",
    "sum=0\n",
    "i=0\n",
    "for y in Ypredict:\n",
    "    if(y==Ytest[i]):\n",
    "        sum+=1\n",
    "    i+=1\n",
    "print(\"matches:\",sum)\n",
    "accuracy=sum/testSize\n",
    "print(f\"prediction accuracy = {accuracy}\")\n",
    "\n",
    "#plt.scatter(Ztest[0,:], Ztest[1,:], c=Ytest)"
   ]
  }
 ],
 "metadata": {
  "kernelspec": {
   "display_name": "Python 3.11.0 64-bit",
   "language": "python",
   "name": "python3"
  },
  "language_info": {
   "codemirror_mode": {
    "name": "ipython",
    "version": 3
   },
   "file_extension": ".py",
   "mimetype": "text/x-python",
   "name": "python",
   "nbconvert_exporter": "python",
   "pygments_lexer": "ipython3",
   "version": "3.11.0"
  },
  "orig_nbformat": 4,
  "vscode": {
   "interpreter": {
    "hash": "ada8a7deb3d62618f12d5236e8b44b9f0105d089656cbe2f7d65c1a25d0e5b92"
   }
  }
 },
 "nbformat": 4,
 "nbformat_minor": 2
}

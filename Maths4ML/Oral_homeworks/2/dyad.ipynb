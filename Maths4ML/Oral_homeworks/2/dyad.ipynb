{
 "cells": [
  {
   "cell_type": "markdown",
   "metadata": {},
   "source": [
    "# Visualizing Dyads"
   ]
  },
  {
   "cell_type": "code",
   "execution_count": null,
   "metadata": {},
   "outputs": [],
   "source": [
    "import skimage\n",
    "import numpy as np\n",
    "import matplotlib.pyplot as plt"
   ]
  },
  {
   "cell_type": "markdown",
   "metadata": {},
   "source": [
    "Original image"
   ]
  },
  {
   "cell_type": "code",
   "execution_count": null,
   "metadata": {},
   "outputs": [],
   "source": [
    "img=skimage.data.camera()\n",
    "X=np.array(img)\n",
    "plt.imshow(X, cmap=\"gray\")"
   ]
  },
  {
   "cell_type": "code",
   "execution_count": null,
   "metadata": {},
   "outputs": [],
   "source": [
    "print(X.shape)\n",
    "#print(img.head())\n",
    "\n",
    "U, s, VT = np.linalg.svd(X, full_matrices=False)\n",
    "\n",
    "plt.plot(s)\n",
    "plt.title(\"Singular values\")\n"
   ]
  },
  {
   "cell_type": "code",
   "execution_count": null,
   "metadata": {},
   "outputs": [],
   "source": [
    "print(s.shape)\n",
    "i=0\n",
    "Ai=U[:,i:i+1]@VT[i:i+1,:]\n",
    "Ai*=s[0]\n",
    "print(Ai.shape)\n",
    "plt.imshow(np.reshape(Ai, (512, 512)), cmap=\"gray\")\n",
    "plt.title(\"First singular value\")\n",
    "\n"
   ]
  },
  {
   "cell_type": "code",
   "execution_count": null,
   "metadata": {},
   "outputs": [],
   "source": [
    "i=1\n",
    "\n",
    "Ai=U[:,i:i+1]@VT[i:i+1,:]\n",
    "Ai*=s[0]\n",
    "print(Ai.shape)\n",
    "plt.imshow(np.reshape(Ai, (512, 512)), cmap=\"gray\")\n",
    "\n"
   ]
  },
  {
   "cell_type": "code",
   "execution_count": null,
   "metadata": {},
   "outputs": [],
   "source": [
    "k=512\n",
    "sum=0\n",
    "E=np.zeros((512,))\n",
    "Ai=np.zeros((512,512))\n",
    "fig, ax= plt.subplots(3,3, figsize=(15,15))\n",
    "pi=0\n",
    "pj=0\n",
    "for i in range(k):\n",
    "    Ai+=(U[:,i:i+1]@VT[i:i+1,:])*s[i]\n",
    "    E[i]=np.linalg.norm(X-Ai)\n",
    "    if(i%10==0 and i<80):\n",
    "        ax[pi][pj].imshow(np.reshape(Ai, (512, 512)), cmap=\"gray\")\n",
    "        ax[pi][pj].set_title(f\"k={i}. Error={E[i]}\")\n",
    "        pj+=1\n",
    "        if(pj==3):\n",
    "            pj=0\n",
    "            pi+=1\n",
    "ax[2][2].imshow(np.reshape(Ai, (512, 512)), cmap=\"gray\")\n",
    "ax[2][2].set_title(f\"k={i}; Error={E[i]}\")\n",
    "fig.supertitle(\"Different values of k\")\n"
   ]
  },
  {
   "cell_type": "code",
   "execution_count": null,
   "metadata": {},
   "outputs": [],
   "source": [
    "plt.plot(E)\n",
    "plt.title(\"Error\")"
   ]
  }
 ],
 "metadata": {
  "kernelspec": {
   "display_name": "Python 3.11.0 64-bit",
   "language": "python",
   "name": "python3"
  },
  "language_info": {
   "codemirror_mode": {
    "name": "ipython",
    "version": 3
   },
   "file_extension": ".py",
   "mimetype": "text/x-python",
   "name": "python",
   "nbconvert_exporter": "python",
   "pygments_lexer": "ipython3",
   "version": "3.11.0"
  },
  "orig_nbformat": 4,
  "vscode": {
   "interpreter": {
    "hash": "ada8a7deb3d62618f12d5236e8b44b9f0105d089656cbe2f7d65c1a25d0e5b92"
   }
  }
 },
 "nbformat": 4,
 "nbformat_minor": 2
}
